{
 "cells": [
  {
   "cell_type": "code",
   "execution_count": 1,
   "metadata": {},
   "outputs": [],
   "source": [
    "from tools import *\n",
    "import numpy as np"
   ]
  },
  {
   "cell_type": "code",
   "execution_count": 2,
   "metadata": {},
   "outputs": [],
   "source": [
    "PATH_TO_LVK_DATA = '/Users/ulyana/Documents/GSSI/PhD Projects/GWTC_analysis/GWTC_LVK_data/'\n",
    "PATH_TO_RESULTS = '/Users/ulyana/Documents/GSSI/PhD Projects/GWTC_analysis/'"
   ]
  },
  {
   "cell_type": "code",
   "execution_count": 3,
   "metadata": {},
   "outputs": [],
   "source": [
    "waveform = 'IMRPhenomXPHM'"
   ]
  },
  {
   "cell_type": "code",
   "execution_count": 4,
   "metadata": {},
   "outputs": [],
   "source": [
    "estimator = 'median'\n",
    "events = np.loadtxt(PATH_TO_RESULTS + 'info/' + 'events_with_priors_%s.txt' %waveform, dtype=str)\n",
    "with open(PATH_TO_RESULTS + 'info/' + 'detectors_dictionary.pkl', 'rb') as f:\n",
    "    detectors = pickle.load(f)"
   ]
  },
  {
   "cell_type": "markdown",
   "metadata": {},
   "source": [
    "# Store samples and confidence interval (90CL)"
   ]
  },
  {
   "cell_type": "code",
   "execution_count": 5,
   "metadata": {},
   "outputs": [],
   "source": [
    "params = ['chirp_mass', 'mass_ratio', 'luminosity_distance', 'dec', 'ra', 'theta_jn', 'psi', 'phase', \n",
    "            'geocent_time', 'a_1', 'a_2', 'tilt_1', 'tilt_2', 'phi_12', 'phi_jl']"
   ]
  },
  {
   "cell_type": "markdown",
   "metadata": {},
   "source": [
    "## LVK"
   ]
  },
  {
   "cell_type": "code",
   "execution_count": 6,
   "metadata": {},
   "outputs": [],
   "source": [
    "for event in events:\n",
    "    samples_lvk = get_lvk_samples(PATH_TO_LVK_DATA, event, params, waveform)\n",
    "    samples_lvk_df = pd.DataFrame(samples_lvk)\n",
    "    samples_lvk_df.to_hdf(PATH_TO_RESULTS + 'results/samples/lvk_samples_%s.hdf5' %event, mode='w', key='root')"
   ]
  },
  {
   "cell_type": "code",
   "execution_count": 15,
   "metadata": {},
   "outputs": [],
   "source": [
    "confidence_level = 90 # number between 0 and 100\n",
    "conf_interval_lvk = {}\n",
    "samples_len = {}\n",
    "for event in events:\n",
    "    samples = pd.read_hdf(PATH_TO_RESULTS + 'results/samples/lvk_samples_%s.hdf5' %(event))\n",
    "    samples_len[event] = len(samples)\n",
    "    conf_interval_lvk[event] = get_confidence_interval(samples, params, confidence_level)\n"
   ]
  },
  {
   "cell_type": "code",
   "execution_count": null,
   "metadata": {},
   "outputs": [],
   "source": [
    "conf_interval_lvk = pd.DataFrame(conf_interval_lvk)\n",
    "conf_interval_lvk.to_hdf(PATH_TO_RESULTS + 'results/confidence_levels/conf_interval90_lvk_%s.hdf5' %estimator, mode='w', key='root')"
   ]
  },
  {
   "cell_type": "code",
   "execution_count": 18,
   "metadata": {},
   "outputs": [],
   "source": [
    "with open(PATH_TO_RESULTS + 'info/' + 'samples_len_%s_%s.pkl' %(estimator, waveform), 'wb') as f:\n",
    "        pickle.dump(samples_len, f)"
   ]
  },
  {
   "cell_type": "markdown",
   "metadata": {},
   "source": [
    "## GWFish"
   ]
  },
  {
   "cell_type": "code",
   "execution_count": 6,
   "metadata": {},
   "outputs": [],
   "source": [
    "with open(PATH_TO_RESULTS + 'info/' + 'samples_len_%s_%s.pkl' %(estimator, waveform), 'rb') as f:\n",
    "    samples_len = pickle.load(f)"
   ]
  },
  {
   "cell_type": "code",
   "execution_count": 7,
   "metadata": {},
   "outputs": [],
   "source": [
    "lbs_errs = ['snr', 'chirp_mass', 'mass_ratio', 'mass_1', 'mass_2', 'luminosity_distance', 'dec', 'ra', 'theta_jn',\n",
    "        'psi', 'phase', 'geocent_time', 'a_1', 'a_2', 'tilt_1', 'tilt_2', 'phi_12', 'phi_jl', 'redshift', \n",
    "        'mass1_lvk', 'mass2_lvk', 'err_chirp_mass', 'err_mass_ratio', 'err_luminosity_distance', 'err_dec', 'err_ra',\n",
    "        'err_theta_jn', 'err_psi', 'err_phase', 'err_geocent_time', 'err_a_1', 'err_a_2', 'err_tilt_1',\n",
    "        'err_tilt_2', 'err_phi_12', 'err_phi_jl', 'err_sky_location']"
   ]
  },
  {
   "cell_type": "code",
   "execution_count": 8,
   "metadata": {},
   "outputs": [],
   "source": [
    "time_data = {}\n",
    "for event in events:\n",
    "    label_err = get_label(detectors, event, estimator, 'errors')\n",
    "    data = pd.read_csv(PATH_TO_RESULTS + 'results/gwfish_mChirp_q/' + label_err, names = lbs_errs, delimiter=' ', skiprows=1)\n",
    "    time_data[event] = data['geocent_time'].iloc[0]"
   ]
  },
  {
   "cell_type": "code",
   "execution_count": 9,
   "metadata": {},
   "outputs": [],
   "source": [
    "with open(PATH_TO_RESULTS + 'info/' + 'time_data_4priors_%s_%s.pkl' %(estimator, waveform), 'wb') as f:\n",
    "        pickle.dump(time_data, f)"
   ]
  },
  {
   "cell_type": "code",
   "execution_count": 10,
   "metadata": {},
   "outputs": [],
   "source": [
    "with open(PATH_TO_RESULTS + 'info/' + 'time_data_4priors_%s_%s.pkl' %(estimator, waveform), 'rb') as f:\n",
    "    time_data = pickle.load(f)"
   ]
  },
  {
   "cell_type": "code",
   "execution_count": 11,
   "metadata": {},
   "outputs": [],
   "source": [
    "np.random.seed(42)\n",
    "for event in events:\n",
    "    label_err = get_label(detectors, event, estimator, 'errors')\n",
    "    label_cov = get_label(detectors, event, estimator, 'inv_fishers')\n",
    "    data = pd.read_csv(PATH_TO_RESULTS + 'results/gwfish_m1_m2/' + label_err, names = lbs_errs, delimiter=' ', skiprows=1)\n",
    "    mns = data[params].iloc[0].to_numpy()\n",
    "    cov = np.load(PATH_TO_RESULTS + 'results/gwfish_m1_m2/' + label_cov)[0, :, :]\n",
    "    samples = np.random.multivariate_normal(mns, cov, samples_len[event])\n",
    "    samples_df = pd.DataFrame(samples, columns=params)\n",
    "    samples_df.to_hdf(PATH_TO_RESULTS + 'results/samples/fisher_samples_%s_%s_m1_m2.hdf5' %(estimator, event), mode='w', key='root')"
   ]
  },
  {
   "cell_type": "code",
   "execution_count": 12,
   "metadata": {},
   "outputs": [],
   "source": [
    "with open(PATH_TO_RESULTS + 'info/' + 'chirp_mass_priors_%s.pkl' %waveform, 'rb') as f:\n",
    "    chirp_mass_priors = pickle.load(f)"
   ]
  },
  {
   "cell_type": "code",
   "execution_count": 13,
   "metadata": {},
   "outputs": [],
   "source": [
    "# Build priors dictionary\n",
    "my_priors = {}\n",
    "for event in events:\n",
    "    event_dict = {\n",
    "        'chirp_mass': np.array([float(chirp_mass_priors[event][0]), float(chirp_mass_priors[event][1])]),\n",
    "        'mass_ratio': np.array([0.05, 1.0]),\n",
    "        'luminosity_distance': np.array([10, 10000]),\n",
    "        'dec': np.array([-np.pi/2, np.pi/2]),\n",
    "        'ra': np.array([0, 2*np.pi]),\n",
    "        'theta_jn': np.array([0, np.pi]),\n",
    "        'psi': np.array([0, np.pi]),\n",
    "        'phase': np.array([0, 2*np.pi]),\n",
    "        'geocent_time': np.array([time_data[event] - 0.1, time_data[event] + 0.1]),\n",
    "        'a_1': np.array([0, 0.99]),\n",
    "        'a_2': np.array([0, 0.99]),\n",
    "        'tilt_1': np.array([0, np.pi]),\n",
    "        'tilt_2': np.array([0, np.pi]),\n",
    "        'phi_12': np.array([0, 2*np.pi]),\n",
    "        'phi_jl': np.array([0, 2*np.pi])\n",
    "    }\n",
    "    my_priors[event] = event_dict\n",
    "        "
   ]
  },
  {
   "cell_type": "code",
   "execution_count": 14,
   "metadata": {},
   "outputs": [],
   "source": [
    "min_array = np.array([-np.inf, 0, 0, -np.pi/2, 0, 0, 0, 0, -np.inf, 0, 0, 0, 0, 0, 0])\n",
    "max_array = np.array([np.inf, 1, 20000, np.pi/2, 2*np.pi, np.pi, np.pi, 2*np.pi, np.inf, 1, 1, np.pi, np.pi, 2*np.pi, 2*np.pi])\n",
    "\n",
    "for event in events:\n",
    "    label_err = get_label(detectors, event, estimator, 'errors')\n",
    "    label_cov = get_label(detectors, event, estimator, 'inv_fishers')\n",
    "    data = pd.read_csv(PATH_TO_RESULTS + 'results/gwfish_mChirp_q/' + label_err, names = lbs_errs, delimiter=' ', skiprows=1)\n",
    "    mns = data[params].iloc[0].to_numpy()\n",
    "    cov = np.load(PATH_TO_RESULTS + 'results/gwfish_mChirp_q/' + label_cov)[0, :, :]\n",
    "    samples_tmvn = get_samples_from_TMVN(min_array, max_array, mns, cov, samples_len[event])\n",
    "    new_df = pd.DataFrame(samples_tmvn.T, columns = params)\n",
    "    posteriors = get_posteriors(new_df, my_priors[event], samples_len[event])\n",
    "    posteriors_df = pd.DataFrame(posteriors, columns = params)\n",
    "    posteriors_df.to_hdf(PATH_TO_RESULTS + 'results/samples/fisher_plus_priors_samples_%s_%s.hdf5' %(estimator, event), mode='w', key='root')"
   ]
  },
  {
   "cell_type": "code",
   "execution_count": null,
   "metadata": {},
   "outputs": [],
   "source": [
    "conf_interval_fisher = {}\n",
    "conf_interval_fisher_plus_priors = {}\n",
    "confidence_level = 90\n",
    "for event in events:\n",
    "    samples = pd.read_hdf(PATH_TO_RESULTS + 'results/samples/fisher_samples_%s_%s_m1_m2.hdf5' %(estimator, event))\n",
    "    samples_plus_priors = pd.read_hdf(PATH_TO_RESULTS + 'results/samples/fisher_plus_priors_samples_%s_%s.hdf5' %(estimator, event))\n",
    "    conf_interval_fisher[event] = get_confidence_interval(samples, params, confidence_level)\n",
    "    conf_interval_fisher_plus_priors[event] = get_confidence_interval(samples_plus_priors, params, confidence_level)\n",
    "\n",
    "conf_interval_fisher = pd.DataFrame(conf_interval_fisher)\n",
    "conf_interval_fisher_plus_priors = pd.DataFrame(conf_interval_fisher_plus_priors)\n",
    "conf_interval_fisher.to_hdf(PATH_TO_RESULTS + 'results/confidence_levels/conf_interval90_fisher_%s.hdf5' %estimator, mode='w', key='root')\n",
    "conf_interval_fisher_plus_priors.to_hdf(PATH_TO_RESULTS + 'results/confidence_levels/conf_interval90_fisher_plus_priors_%s.hdf5' %estimator, mode='w', key='root')"
   ]
  },
  {
   "cell_type": "markdown",
   "metadata": {},
   "source": [
    "# Some Tests"
   ]
  },
  {
   "cell_type": "code",
   "execution_count": 15,
   "metadata": {},
   "outputs": [],
   "source": [
    "posterior_lvk = pd.read_hdf(PATH_TO_RESULTS + 'results/samples/lvk_samples_%s.hdf5' %events[0])\n",
    "posterior_gwfish = pd.read_hdf(PATH_TO_RESULTS + 'results/samples/fisher_samples_%s_%s.hdf5' %(estimator, events[0]))\n",
    "posterior_gwfish_plus_priors = pd.read_hdf(PATH_TO_RESULTS + 'results/samples/fisher_plus_priors_samples_%s_%s.hdf5' %(estimator, events[0]))"
   ]
  },
  {
   "cell_type": "code",
   "execution_count": null,
   "metadata": {},
   "outputs": [],
   "source": [
    "posterior_gwfish_m1m2 = pd.read_hdf(PATH_TO_RESULTS + 'results/samples/fisher_samples_%s_%s_m1_m2.hdf5' %(estimator, events[0]))"
   ]
  },
  {
   "cell_type": "code",
   "execution_count": 16,
   "metadata": {},
   "outputs": [],
   "source": [
    "import matplotlib.pyplot as plt"
   ]
  },
  {
   "cell_type": "code",
   "execution_count": 18,
   "metadata": {},
   "outputs": [
    {
     "data": {
      "image/png": "[encoded data removed]",
      "text/plain": [
       "<Figure size 640x480 with 1 Axes>"
      ]
     },
     "metadata": {},
     "output_type": "display_data"
    }
   ],
   "source": [
    "select_param = 'chirp_mass'\n",
    "plt.hist(posterior_lvk[select_param], bins=100, alpha=0.5, label='lvk')\n",
    "plt.hist(posterior_gwfish[select_param], bins=100, alpha=0.5, label='gwfish')\n",
    "plt.hist(posterior_gwfish_plus_priors[select_param], bins=100, alpha=0.5, label='gwfish + priors')\n",
    "plt.legend()\n",
    "plt.show()"
   ]
  },
  {
   "cell_type": "code",
   "execution_count": 48,
   "metadata": {},
   "outputs": [],
   "source": [
    "m_chirp_from_m1_m2, q_from_m1_m2 = from_m1_m2_to_mChirp_q(posterior_gwfish_m1m2['mass_1'], posterior_gwfish_m1m2['mass_2']) "
   ]
  },
  {
   "cell_type": "code",
   "execution_count": 47,
   "metadata": {},
   "outputs": [
    {
     "data": {
      "text/plain": [
       "[]"
      ]
     },
     "execution_count": 47,
     "metadata": {},
     "output_type": "execute_result"
    },
    {
     "data": {
      "image/png": "[encoded data removed]",
      "text/plain": [
       "<Figure size 640x480 with 1 Axes>"
      ]
     },
     "metadata": {},
     "output_type": "display_data"
    }
   ],
   "source": [
    "plt.hist(posterior_gwfish_m1m2['mass_1'], bins=100, alpha=0.5, label='gwfish_m1m2')\n",
    "plt.legend()\n",
    "plt.plot()"
   ]
  },
  {
   "cell_type": "code",
   "execution_count": 50,
   "metadata": {},
   "outputs": [],
   "source": [
    "m1, m2 = from_mChirp_q_to_m1_m2(posterior_gwfish['chirp_mass'], posterior_gwfish['mass_ratio'])"
   ]
  },
  {
   "cell_type": "code",
   "execution_count": 54,
   "metadata": {},
   "outputs": [
    {
     "data": {
      "image/png": "[encoded data removed]",
      "text/plain": [
       "<Figure size 640x480 with 1 Axes>"
      ]
     },
     "metadata": {},
     "output_type": "display_data"
    }
   ],
   "source": [
    "plt.hist(posterior_gwfish['mass_ratio'], bins=100, alpha=0.5, label='gwfish')\n",
    "plt.hist(posterior_lvk['mass_ratio'], bins=100, alpha=0.5, label='lvk')\n",
    "plt.legend()\n",
    "plt.show()"
   ]
  },
  {
   "cell_type": "code",
   "execution_count": 55,
   "metadata": {},
   "outputs": [
    {
     "data": {
      "text/plain": [
       "'IGWN-GWTC2p1-v2-GW151012_095443_PEDataRelease_mixed_cosmo'"
      ]
     },
     "execution_count": 55,
     "metadata": {},
     "output_type": "execute_result"
    }
   ],
   "source": [
    "events[0]"
   ]
  },
  {
   "cell_type": "code",
   "execution_count": 52,
   "metadata": {},
   "outputs": [
    {
     "data": {
      "text/plain": [
       "[]"
      ]
     },
     "execution_count": 52,
     "metadata": {},
     "output_type": "execute_result"
    },
    {
     "data": {
      "image/png": "[encoded data removed]",
      "text/plain": [
       "<Figure size 640x480 with 1 Axes>"
      ]
     },
     "metadata": {},
     "output_type": "display_data"
    }
   ],
   "source": [
    "plt.hist(posterior_gwfish_m1m2['mass_1'], bins=np.logspace(-2,4,100), alpha=0.5, label='gwfish_m1m2')\n",
    "plt.hist(m1, bins=np.logspace(-2,4,100), alpha=0.5, label='gwfish_mChirp_q')\n",
    "plt.legend()\n",
    "plt.yscale('log')\n",
    "plt.plot()"
   ]
  },
  {
   "cell_type": "code",
   "execution_count": 49,
   "metadata": {},
   "outputs": [
    {
     "data": {
      "image/png": "[encoded data removed]",
      "text/plain": [
       "<Figure size 640x480 with 1 Axes>"
      ]
     },
     "metadata": {},
     "output_type": "display_data"
    }
   ],
   "source": [
    "plt.hist(posterior_lvk['chirp_mass'], bins=100, alpha=0.5, label='lvk')\n",
    "plt.hist(posterior_gwfish['chirp_mass'], bins=100, alpha=0.5, label='gwfish')\n",
    "plt.hist(m_chirp_from_m1_m2, bins=100, alpha=0.5, label='m_chirp_from_m1_m2')\n",
    "plt.legend()\n",
    "plt.show()"
   ]
  },
  {
   "cell_type": "code",
   "execution_count": null,
   "metadata": {},
   "outputs": [],
   "source": []
  }
 ],
 "metadata": {
  "kernelspec": {
   "display_name": "gwfish_env",
   "language": "python",
   "name": "python3"
  },
  "language_info": {
   "codemirror_mode": {
    "name": "ipython",
    "version": 3
   },
   "file_extension": ".py",
   "mimetype": "text/x-python",
   "name": "python",
   "nbconvert_exporter": "python",
   "pygments_lexer": "ipython3",
   "version": "3.10.13"
  }
 },
 "nbformat": 4,
 "nbformat_minor": 2
}
