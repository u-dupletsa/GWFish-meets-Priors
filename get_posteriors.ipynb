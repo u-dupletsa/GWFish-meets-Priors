{
 "cells": [
  {
   "cell_type": "markdown",
   "metadata": {},
   "source": [
    "# Posterior samples"
   ]
  },
  {
   "cell_type": "markdown",
   "metadata": {},
   "source": [
    "To get posterior samples we need to do Fisher analysis of our events and then apply priors in post-processing"
   ]
  },
  {
   "cell_type": "code",
   "execution_count": 1,
   "metadata": {},
   "outputs": [],
   "source": [
    "from tools import *\n",
    "import numpy as np\n",
    "import pickle"
   ]
  },
  {
   "cell_type": "code",
   "execution_count": 2,
   "metadata": {},
   "outputs": [],
   "source": [
    "PATH_TO_LVK_DATA = '/Users/ulyana/Documents/GSSI/PhD Projects/GWTC_results/GWTC_LVK_data/'\n",
    "PATH_TO_INFO = '/Users/ulyana/Documents/GSSI/PhD Projects/GWTC_results/info/'\n",
    "PATH_TO_RESULTS = '/Users/ulyana/Documents/GSSI/PhD Projects/GWTC_results/results/'\n",
    "PATH_TO_INJECTIONS = '/Users/ulyana/Documents/GSSI/PhD Projects/GWTC_results/injections/'\n",
    "PATH_TO_YAML = '/Users/ulyana/Documents/GSSI/PhD Projects/GWTC_results/yamls/'\n",
    "PATH_TO_PSD = '/Users/ulyana/Documents/GSSI/PhD Projects/GWTC_results/gwtc_psds/'"
   ]
  },
  {
   "cell_type": "markdown",
   "metadata": {},
   "source": [
    "We are working with BBH data and we take the median as the value to inject in `gwfish`"
   ]
  },
  {
   "cell_type": "code",
   "execution_count": 3,
   "metadata": {},
   "outputs": [],
   "source": [
    "waveform = 'IMRPhenomXPHM'\n",
    "estimator = 'median'\n",
    "params = ['chirp_mass', 'mass_ratio', 'luminosity_distance', 'dec', 'ra', 'theta_jn', 'psi', 'phase', \n",
    "            'geocent_time', 'a_1', 'a_2', 'tilt_1', 'tilt_2', 'phi_12', 'phi_jl']"
   ]
  },
  {
   "cell_type": "markdown",
   "metadata": {},
   "source": [
    "We consider the events' list for which we have the analytic prior from the LVK analysis"
   ]
  },
  {
   "cell_type": "code",
   "execution_count": 4,
   "metadata": {},
   "outputs": [],
   "source": [
    "events = np.loadtxt(PATH_TO_INFO + 'events_wf_%s_priors_%s.txt' %(estimator, waveform), dtype=str)\n",
    "with open(PATH_TO_INFO + 'detectors_dictionary.pkl', 'rb') as f:\n",
    "    detectors = pickle.load(f)"
   ]
  },
  {
   "cell_type": "markdown",
   "metadata": {},
   "source": [
    "Specify the folder where to save results"
   ]
  },
  {
   "cell_type": "code",
   "execution_count": 5,
   "metadata": {},
   "outputs": [],
   "source": [
    "results_folder = 'gwfish_medians'"
   ]
  },
  {
   "cell_type": "markdown",
   "metadata": {},
   "source": [
    "The fisher parameters are the same as the injection parameters"
   ]
  },
  {
   "cell_type": "code",
   "execution_count": 6,
   "metadata": {},
   "outputs": [
    {
     "name": "stderr",
     "output_type": "stream",
     "text": [
      "100%|██████████| 1/1 [00:06<00:00,  6.88s/it]\n",
      "100%|██████████| 1/1 [00:07<00:00,  7.91s/it]\n",
      "100%|██████████| 1/1 [00:17<00:00, 17.69s/it]\n",
      "100%|██████████| 1/1 [00:14<00:00, 14.09s/it]\n",
      "100%|██████████| 1/1 [00:08<00:00,  8.84s/it]\n",
      "100%|██████████| 1/1 [00:19<00:00, 19.29s/it]\n",
      "100%|██████████| 1/1 [00:13<00:00, 13.01s/it]\n",
      "100%|██████████| 1/1 [00:07<00:00,  7.36s/it]\n",
      "100%|██████████| 1/1 [00:09<00:00,  9.13s/it]\n",
      "100%|██████████| 1/1 [00:23<00:00, 23.41s/it]\n",
      "100%|██████████| 1/1 [00:07<00:00,  7.15s/it]\n",
      "100%|██████████| 1/1 [00:07<00:00,  7.18s/it]\n",
      "100%|██████████| 1/1 [00:06<00:00,  6.22s/it]\n",
      "100%|██████████| 1/1 [00:20<00:00, 20.78s/it]\n",
      "100%|██████████| 1/1 [00:06<00:00,  6.28s/it]\n",
      "100%|██████████| 1/1 [00:06<00:00,  6.12s/it]\n",
      "100%|██████████| 1/1 [00:06<00:00,  6.12s/it]\n",
      "100%|██████████| 1/1 [00:23<00:00, 23.23s/it]\n",
      "100%|██████████| 1/1 [00:05<00:00,  5.54s/it]\n",
      "100%|██████████| 1/1 [00:06<00:00,  6.56s/it]\n",
      "100%|██████████| 1/1 [00:05<00:00,  5.34s/it]\n",
      "100%|██████████| 1/1 [00:18<00:00, 18.91s/it]\n",
      "100%|██████████| 1/1 [00:07<00:00,  7.64s/it]\n",
      "100%|██████████| 1/1 [00:12<00:00, 12.66s/it]\n",
      "100%|██████████| 1/1 [00:14<00:00, 14.08s/it]\n",
      "100%|██████████| 1/1 [00:08<00:00,  8.15s/it]\n",
      "100%|██████████| 1/1 [00:08<00:00,  8.25s/it]\n",
      "100%|██████████| 1/1 [00:07<00:00,  7.01s/it]\n",
      "100%|██████████| 1/1 [00:21<00:00, 21.09s/it]\n",
      "100%|██████████| 1/1 [00:05<00:00,  5.47s/it]\n",
      "100%|██████████| 1/1 [00:05<00:00,  5.42s/it]\n",
      "100%|██████████| 1/1 [00:05<00:00,  5.90s/it]\n",
      "100%|██████████| 1/1 [00:16<00:00, 16.33s/it]\n",
      "100%|██████████| 1/1 [00:05<00:00,  5.39s/it]\n",
      "100%|██████████| 1/1 [00:05<00:00,  5.46s/it]\n",
      "100%|██████████| 1/1 [00:12<00:00, 12.52s/it]\n",
      "100%|██████████| 1/1 [00:06<00:00,  6.47s/it]\n",
      "  0%|          | 0/1 [00:00<?, ?it/s]/Users/ulyana/anaconda3/envs/gwfish/lib/python3.10/site-packages/GWFish/modules/fishermatrix.py:211: RuntimeWarning: invalid value encountered in sqrt\n",
      "  * np.sqrt(\n",
      "100%|██████████| 1/1 [00:06<00:00,  6.14s/it]\n",
      "100%|██████████| 1/1 [00:06<00:00,  6.17s/it]\n",
      "100%|██████████| 1/1 [00:21<00:00, 21.34s/it]\n",
      "100%|██████████| 1/1 [00:05<00:00,  5.85s/it]\n",
      "100%|██████████| 1/1 [00:06<00:00,  6.20s/it]\n",
      "100%|██████████| 1/1 [00:06<00:00,  6.79s/it]\n",
      "100%|██████████| 1/1 [00:17<00:00, 17.87s/it]\n",
      "100%|██████████| 1/1 [00:09<00:00,  9.71s/it]\n",
      "100%|██████████| 1/1 [00:11<00:00, 11.24s/it]\n",
      "100%|██████████| 1/1 [00:07<00:00,  7.53s/it]\n",
      "100%|██████████| 1/1 [00:25<00:00, 25.01s/it]\n",
      "100%|██████████| 1/1 [00:07<00:00,  7.01s/it]\n",
      "100%|██████████| 1/1 [00:08<00:00,  8.11s/it]\n",
      "100%|██████████| 1/1 [00:15<00:00, 15.33s/it]\n",
      "100%|██████████| 1/1 [00:07<00:00,  7.33s/it]\n",
      "100%|██████████| 1/1 [00:07<00:00,  7.88s/it]\n",
      "  0%|          | 0/1 [00:00<?, ?it/s]/Users/ulyana/anaconda3/envs/gwfish/lib/python3.10/site-packages/GWFish/modules/fishermatrix.py:211: RuntimeWarning: invalid value encountered in sqrt\n",
      "  * np.sqrt(\n",
      "100%|██████████| 1/1 [00:09<00:00,  9.29s/it]\n",
      "100%|██████████| 1/1 [00:30<00:00, 30.89s/it]\n",
      "100%|██████████| 1/1 [00:08<00:00,  8.62s/it]\n",
      "100%|██████████| 1/1 [00:11<00:00, 11.23s/it]\n",
      "100%|██████████| 1/1 [01:07<00:00, 67.40s/it]\n",
      "100%|██████████| 1/1 [00:11<00:00, 11.95s/it]\n",
      "100%|██████████| 1/1 [00:19<00:00, 19.34s/it]\n",
      "100%|██████████| 1/1 [00:25<00:00, 25.58s/it]\n",
      "100%|██████████| 1/1 [01:09<00:00, 69.44s/it]\n",
      "100%|██████████| 1/1 [00:18<00:00, 18.33s/it]\n",
      "100%|██████████| 1/1 [00:22<00:00, 22.47s/it]\n",
      "100%|██████████| 1/1 [00:19<00:00, 19.28s/it]\n",
      "100%|██████████| 1/1 [00:08<00:00,  8.94s/it]\n",
      "100%|██████████| 1/1 [00:06<00:00,  6.65s/it]\n",
      "100%|██████████| 1/1 [00:06<00:00,  6.84s/it]\n",
      "100%|██████████| 1/1 [00:20<00:00, 20.02s/it]\n",
      "100%|██████████| 1/1 [00:06<00:00,  6.68s/it]\n",
      "100%|██████████| 1/1 [00:06<00:00,  6.97s/it]\n",
      "100%|██████████| 1/1 [00:06<00:00,  6.78s/it]\n",
      "100%|██████████| 1/1 [00:19<00:00, 19.75s/it]\n",
      "100%|██████████| 1/1 [00:06<00:00,  6.33s/it]\n",
      "100%|██████████| 1/1 [00:06<00:00,  6.22s/it]\n",
      "100%|██████████| 1/1 [00:06<00:00,  6.42s/it]\n",
      "100%|██████████| 1/1 [00:18<00:00, 18.47s/it]\n",
      "100%|██████████| 1/1 [00:07<00:00,  7.62s/it]\n",
      "100%|██████████| 1/1 [00:07<00:00,  7.57s/it]\n",
      "100%|██████████| 1/1 [00:07<00:00,  7.17s/it]\n",
      "100%|██████████| 1/1 [00:23<00:00, 23.62s/it]\n",
      "100%|██████████| 1/1 [00:06<00:00,  6.56s/it]\n",
      "100%|██████████| 1/1 [00:06<00:00,  6.75s/it]\n",
      "100%|██████████| 1/1 [00:14<00:00, 14.41s/it]\n",
      "100%|██████████| 1/1 [00:07<00:00,  7.40s/it]\n",
      "100%|██████████| 1/1 [00:07<00:00,  7.75s/it]\n",
      "100%|██████████| 1/1 [00:15<00:00, 15.51s/it]\n",
      "100%|██████████| 1/1 [00:06<00:00,  6.58s/it]\n",
      "100%|██████████| 1/1 [00:06<00:00,  6.71s/it]\n",
      "100%|██████████| 1/1 [00:06<00:00,  6.79s/it]\n",
      "100%|██████████| 1/1 [00:19<00:00, 19.73s/it]\n",
      "100%|██████████| 1/1 [00:07<00:00,  7.37s/it]\n",
      "100%|██████████| 1/1 [00:07<00:00,  7.80s/it]\n",
      "100%|██████████| 1/1 [00:07<00:00,  7.51s/it]\n",
      "100%|██████████| 1/1 [00:23<00:00, 23.03s/it]\n",
      "100%|██████████| 1/1 [00:07<00:00,  7.27s/it]\n",
      "100%|██████████| 1/1 [00:08<00:00,  8.85s/it]\n",
      "100%|██████████| 1/1 [00:07<00:00,  7.33s/it]\n",
      "100%|██████████| 1/1 [00:22<00:00, 22.22s/it]\n",
      "100%|██████████| 1/1 [00:06<00:00,  6.96s/it]\n",
      "100%|██████████| 1/1 [00:06<00:00,  6.84s/it]\n",
      "100%|██████████| 1/1 [00:07<00:00,  7.31s/it]\n",
      "100%|██████████| 1/1 [00:21<00:00, 21.34s/it]\n",
      "100%|██████████| 1/1 [00:06<00:00,  6.54s/it]\n",
      "100%|██████████| 1/1 [00:06<00:00,  6.79s/it]\n",
      "100%|██████████| 1/1 [00:13<00:00, 13.20s/it]\n",
      "100%|██████████| 1/1 [00:06<00:00,  6.32s/it]\n",
      "100%|██████████| 1/1 [00:06<00:00,  6.51s/it]\n",
      "100%|██████████| 1/1 [00:06<00:00,  6.68s/it]\n",
      "100%|██████████| 1/1 [00:20<00:00, 20.03s/it]\n",
      "100%|██████████| 1/1 [00:05<00:00,  5.97s/it]\n",
      "100%|██████████| 1/1 [00:06<00:00,  6.23s/it]\n",
      "100%|██████████| 1/1 [00:06<00:00,  6.13s/it]\n",
      "100%|██████████| 1/1 [00:20<00:00, 21.00s/it]\n",
      "100%|██████████| 1/1 [00:06<00:00,  6.67s/it]\n",
      "100%|██████████| 1/1 [00:07<00:00,  7.21s/it]\n",
      "100%|██████████| 1/1 [00:06<00:00,  6.68s/it]\n",
      "100%|██████████| 1/1 [00:21<00:00, 21.11s/it]\n",
      "100%|██████████| 1/1 [00:06<00:00,  6.80s/it]\n",
      "100%|██████████| 1/1 [00:07<00:00,  7.07s/it]\n",
      "100%|██████████| 1/1 [00:07<00:00,  7.05s/it]\n",
      "100%|██████████| 1/1 [00:21<00:00, 21.09s/it]\n",
      "100%|██████████| 1/1 [00:06<00:00,  6.85s/it]\n",
      "100%|██████████| 1/1 [00:06<00:00,  6.96s/it]\n",
      "100%|██████████| 1/1 [00:13<00:00, 13.88s/it]\n",
      "100%|██████████| 1/1 [00:06<00:00,  6.17s/it]\n",
      "100%|██████████| 1/1 [00:06<00:00,  6.39s/it]\n",
      "100%|██████████| 1/1 [00:06<00:00,  6.70s/it]\n",
      "100%|██████████| 1/1 [00:18<00:00, 18.95s/it]\n",
      "100%|██████████| 1/1 [00:07<00:00,  7.88s/it]\n",
      "100%|██████████| 1/1 [00:08<00:00,  8.84s/it]\n",
      "100%|██████████| 1/1 [00:15<00:00, 15.81s/it]\n",
      "100%|██████████| 1/1 [00:06<00:00,  6.81s/it]\n",
      "100%|██████████| 1/1 [00:06<00:00,  6.91s/it]\n",
      "100%|██████████| 1/1 [00:06<00:00,  6.76s/it]\n",
      "100%|██████████| 1/1 [00:20<00:00, 20.83s/it]\n",
      "100%|██████████| 1/1 [00:06<00:00,  6.67s/it]\n",
      "100%|██████████| 1/1 [00:06<00:00,  6.45s/it]\n",
      "100%|██████████| 1/1 [00:06<00:00,  6.57s/it]\n",
      "100%|██████████| 1/1 [00:19<00:00, 19.82s/it]\n",
      "100%|██████████| 1/1 [00:06<00:00,  6.71s/it]\n",
      "100%|██████████| 1/1 [00:06<00:00,  6.95s/it]\n",
      "100%|██████████| 1/1 [00:07<00:00,  7.21s/it]\n",
      "100%|██████████| 1/1 [00:20<00:00, 20.98s/it]\n",
      "100%|██████████| 1/1 [00:07<00:00,  7.12s/it]\n",
      "100%|██████████| 1/1 [00:07<00:00,  7.04s/it]\n",
      "100%|██████████| 1/1 [00:13<00:00, 13.99s/it]\n",
      "100%|██████████| 1/1 [00:07<00:00,  7.85s/it]\n",
      "100%|██████████| 1/1 [00:07<00:00,  7.58s/it]\n",
      "100%|██████████| 1/1 [00:13<00:00, 13.82s/it]\n",
      "100%|██████████| 1/1 [00:06<00:00,  6.90s/it]\n",
      "100%|██████████| 1/1 [00:06<00:00,  6.74s/it]\n",
      "100%|██████████| 1/1 [00:06<00:00,  6.81s/it]\n",
      "100%|██████████| 1/1 [00:21<00:00, 21.02s/it]\n",
      "100%|██████████| 1/1 [00:06<00:00,  6.80s/it]\n",
      "100%|██████████| 1/1 [00:07<00:00,  7.15s/it]\n",
      "100%|██████████| 1/1 [00:07<00:00,  7.19s/it]\n",
      "100%|██████████| 1/1 [00:21<00:00, 21.43s/it]\n",
      "100%|██████████| 1/1 [00:06<00:00,  6.80s/it]\n",
      "100%|██████████| 1/1 [00:06<00:00,  6.93s/it]\n",
      "100%|██████████| 1/1 [00:13<00:00, 13.66s/it]\n",
      "100%|██████████| 1/1 [00:06<00:00,  6.24s/it]\n",
      "100%|██████████| 1/1 [00:06<00:00,  6.55s/it]\n",
      "100%|██████████| 1/1 [00:06<00:00,  6.63s/it]\n",
      "100%|██████████| 1/1 [00:20<00:00, 20.63s/it]\n",
      "100%|██████████| 1/1 [00:07<00:00,  7.21s/it]\n",
      "100%|██████████| 1/1 [00:07<00:00,  7.51s/it]\n",
      "100%|██████████| 1/1 [00:14<00:00, 14.79s/it]\n",
      "100%|██████████| 1/1 [00:07<00:00,  7.68s/it]\n",
      "100%|██████████| 1/1 [00:07<00:00,  7.34s/it]\n",
      "100%|██████████| 1/1 [00:07<00:00,  7.10s/it]\n",
      "100%|██████████| 1/1 [00:23<00:00, 23.40s/it]\n",
      "100%|██████████| 1/1 [00:06<00:00,  6.49s/it]\n",
      "100%|██████████| 1/1 [00:06<00:00,  6.23s/it]\n",
      "100%|██████████| 1/1 [00:06<00:00,  6.62s/it]\n",
      "100%|██████████| 1/1 [00:19<00:00, 19.08s/it]\n",
      "100%|██████████| 1/1 [00:06<00:00,  6.72s/it]\n",
      "100%|██████████| 1/1 [00:07<00:00,  7.05s/it]\n",
      "100%|██████████| 1/1 [00:06<00:00,  6.90s/it]\n",
      "100%|██████████| 1/1 [00:20<00:00, 20.42s/it]\n",
      "100%|██████████| 1/1 [00:07<00:00,  7.08s/it]\n",
      "100%|██████████| 1/1 [00:07<00:00,  7.85s/it]\n",
      "100%|██████████| 1/1 [00:14<00:00, 14.92s/it]\n",
      "100%|██████████| 1/1 [00:07<00:00,  7.40s/it]\n",
      "100%|██████████| 1/1 [00:07<00:00,  7.47s/it]\n",
      "100%|██████████| 1/1 [00:14<00:00, 14.74s/it]\n",
      "100%|██████████| 1/1 [00:06<00:00,  6.46s/it]\n",
      "100%|██████████| 1/1 [00:06<00:00,  6.70s/it]\n",
      "100%|██████████| 1/1 [00:06<00:00,  6.74s/it]\n",
      "100%|██████████| 1/1 [00:19<00:00, 19.97s/it]\n",
      "100%|██████████| 1/1 [00:07<00:00,  7.52s/it]\n",
      "  0%|          | 0/1 [00:00<?, ?it/s]/Users/ulyana/anaconda3/envs/gwfish/lib/python3.10/site-packages/GWFish/modules/fishermatrix.py:211: RuntimeWarning: invalid value encountered in sqrt\n",
      "  * np.sqrt(\n",
      "100%|██████████| 1/1 [00:07<00:00,  7.45s/it]\n",
      "100%|██████████| 1/1 [00:15<00:00, 15.08s/it]\n",
      "100%|██████████| 1/1 [00:06<00:00,  6.59s/it]\n",
      "100%|██████████| 1/1 [00:06<00:00,  6.64s/it]\n",
      "100%|██████████| 1/1 [00:13<00:00, 13.23s/it]\n",
      "100%|██████████| 1/1 [00:06<00:00,  6.80s/it]\n",
      "100%|██████████| 1/1 [00:06<00:00,  6.69s/it]\n",
      "100%|██████████| 1/1 [00:06<00:00,  6.71s/it]\n",
      "100%|██████████| 1/1 [00:22<00:00, 22.02s/it]\n",
      "100%|██████████| 1/1 [00:07<00:00,  7.76s/it]\n",
      "  0%|          | 0/1 [00:00<?, ?it/s]/Users/ulyana/anaconda3/envs/gwfish/lib/python3.10/site-packages/GWFish/modules/fishermatrix.py:211: RuntimeWarning: invalid value encountered in sqrt\n",
      "  * np.sqrt(\n",
      "100%|██████████| 1/1 [00:07<00:00,  7.72s/it]\n",
      "100%|██████████| 1/1 [00:07<00:00,  7.78s/it]\n",
      "100%|██████████| 1/1 [00:22<00:00, 22.49s/it]\n",
      "100%|██████████| 1/1 [00:06<00:00,  6.82s/it]\n",
      "100%|██████████| 1/1 [00:06<00:00,  6.52s/it]\n",
      "100%|██████████| 1/1 [00:13<00:00, 13.35s/it]\n",
      "100%|██████████| 1/1 [00:06<00:00,  6.63s/it]\n",
      "100%|██████████| 1/1 [00:06<00:00,  6.68s/it]\n",
      "100%|██████████| 1/1 [00:06<00:00,  6.63s/it]\n",
      "100%|██████████| 1/1 [00:19<00:00, 19.32s/it]\n",
      "100%|██████████| 1/1 [00:07<00:00,  7.45s/it]\n",
      "100%|██████████| 1/1 [00:07<00:00,  7.38s/it]\n",
      "100%|██████████| 1/1 [00:14<00:00, 14.28s/it]\n",
      "100%|██████████| 1/1 [00:06<00:00,  6.35s/it]\n",
      "100%|██████████| 1/1 [00:06<00:00,  6.70s/it]\n",
      "100%|██████████| 1/1 [00:14<00:00, 14.61s/it]\n",
      "100%|██████████| 1/1 [00:06<00:00,  6.11s/it]\n",
      "100%|██████████| 1/1 [00:06<00:00,  6.15s/it]\n",
      "100%|██████████| 1/1 [00:06<00:00,  6.21s/it]\n",
      "100%|██████████| 1/1 [00:18<00:00, 18.29s/it]\n",
      "100%|██████████| 1/1 [00:07<00:00,  7.00s/it]\n",
      "100%|██████████| 1/1 [00:07<00:00,  7.30s/it]\n",
      "100%|██████████| 1/1 [00:13<00:00, 13.97s/it]\n",
      "100%|██████████| 1/1 [00:06<00:00,  6.75s/it]\n",
      "100%|██████████| 1/1 [00:06<00:00,  6.77s/it]\n",
      "100%|██████████| 1/1 [00:13<00:00, 13.47s/it]\n",
      "100%|██████████| 1/1 [00:06<00:00,  6.82s/it]\n",
      "100%|██████████| 1/1 [00:06<00:00,  6.76s/it]\n",
      "100%|██████████| 1/1 [00:14<00:00, 14.29s/it]\n",
      "100%|██████████| 1/1 [00:07<00:00,  7.48s/it]\n",
      "100%|██████████| 1/1 [00:07<00:00,  7.06s/it]\n",
      "100%|██████████| 1/1 [00:07<00:00,  7.31s/it]\n",
      "100%|██████████| 1/1 [00:21<00:00, 21.89s/it]\n",
      "100%|██████████| 1/1 [00:08<00:00,  8.09s/it]\n",
      "100%|██████████| 1/1 [00:07<00:00,  7.48s/it]\n",
      "100%|██████████| 1/1 [00:14<00:00, 14.91s/it]\n",
      "100%|██████████| 1/1 [00:06<00:00,  6.64s/it]\n",
      "100%|██████████| 1/1 [00:06<00:00,  6.73s/it]\n",
      "100%|██████████| 1/1 [00:06<00:00,  6.54s/it]\n",
      "100%|██████████| 1/1 [00:20<00:00, 20.40s/it]\n",
      "100%|██████████| 1/1 [00:08<00:00,  8.06s/it]\n",
      "  0%|          | 0/1 [00:00<?, ?it/s]/Users/ulyana/anaconda3/envs/gwfish/lib/python3.10/site-packages/GWFish/modules/fishermatrix.py:211: RuntimeWarning: invalid value encountered in sqrt\n",
      "  * np.sqrt(\n",
      "100%|██████████| 1/1 [00:07<00:00,  7.52s/it]\n",
      "100%|██████████| 1/1 [00:15<00:00, 15.21s/it]\n",
      "100%|██████████| 1/1 [00:07<00:00,  7.30s/it]\n",
      "100%|██████████| 1/1 [00:07<00:00,  7.21s/it]\n",
      "100%|██████████| 1/1 [00:14<00:00, 14.50s/it]\n",
      "100%|██████████| 1/1 [00:06<00:00,  6.79s/it]\n",
      "100%|██████████| 1/1 [00:06<00:00,  6.73s/it]\n",
      "100%|██████████| 1/1 [00:06<00:00,  6.72s/it]\n",
      "100%|██████████| 1/1 [00:21<00:00, 21.70s/it]\n",
      "100%|██████████| 1/1 [00:06<00:00,  6.52s/it]\n",
      "100%|██████████| 1/1 [00:06<00:00,  6.48s/it]\n",
      "100%|██████████| 1/1 [00:06<00:00,  6.48s/it]\n",
      "100%|██████████| 1/1 [00:19<00:00, 19.97s/it]\n",
      "100%|██████████| 1/1 [00:06<00:00,  6.43s/it]\n",
      "100%|██████████| 1/1 [00:06<00:00,  6.57s/it]\n",
      "100%|██████████| 1/1 [00:13<00:00, 13.72s/it]\n",
      "100%|██████████| 1/1 [00:06<00:00,  6.28s/it]\n",
      "100%|██████████| 1/1 [00:06<00:00,  6.06s/it]\n",
      "100%|██████████| 1/1 [00:05<00:00,  5.86s/it]\n",
      "100%|██████████| 1/1 [00:18<00:00, 18.49s/it]\n",
      "100%|██████████| 1/1 [00:06<00:00,  6.72s/it]\n",
      "100%|██████████| 1/1 [00:06<00:00,  6.63s/it]\n",
      "100%|██████████| 1/1 [00:06<00:00,  6.96s/it]\n",
      "100%|██████████| 1/1 [00:20<00:00, 20.41s/it]\n",
      "100%|██████████| 1/1 [00:06<00:00,  6.60s/it]\n",
      "100%|██████████| 1/1 [00:06<00:00,  6.73s/it]\n",
      "100%|██████████| 1/1 [00:14<00:00, 14.71s/it]\n",
      "100%|██████████| 1/1 [00:06<00:00,  6.38s/it]\n",
      "100%|██████████| 1/1 [00:06<00:00,  6.78s/it]\n",
      "100%|██████████| 1/1 [00:13<00:00, 13.23s/it]\n",
      "100%|██████████| 1/1 [00:06<00:00,  6.72s/it]\n",
      "100%|██████████| 1/1 [00:06<00:00,  6.69s/it]\n",
      "100%|██████████| 1/1 [00:13<00:00, 13.24s/it]\n",
      "100%|██████████| 1/1 [00:06<00:00,  6.52s/it]\n",
      "100%|██████████| 1/1 [00:06<00:00,  6.61s/it]\n",
      "100%|██████████| 1/1 [00:06<00:00,  6.71s/it]\n",
      "100%|██████████| 1/1 [00:20<00:00, 20.07s/it]\n"
     ]
    }
   ],
   "source": [
    "fisher_parameters = ['chirp_mass', 'mass_ratio', 'luminosity_distance', 'dec', 'ra', 'theta_jn', 'psi', 'phase', \n",
    "            'geocent_time', 'a_1', 'a_2', 'tilt_1', 'tilt_2', 'phi_12', 'phi_jl']\n",
    "gwfish_analysis(PATH_TO_INJECTIONS, PATH_TO_YAML, PATH_TO_RESULTS + results_folder + '/', \n",
    "                events, waveform, estimator, detectors, fisher_parameters)"
   ]
  },
  {
   "cell_type": "markdown",
   "metadata": {},
   "source": [
    "We want to produce 3 different sets of posterior samples:\n",
    "1. LVK posterior samples as obtained using full Bayesian analysis\n",
    "2. Fisher matrix posterior samples, sampled from the multi-variate Gaussian likelihood approximation\n",
    "3. Prior-informed Fisher matrix posterior samples, obtained sampling from the truncated multi-variate Gaussian likelihood where each sample is weighted by its prior probability"
   ]
  },
  {
   "cell_type": "markdown",
   "metadata": {},
   "source": [
    "### LVK samples"
   ]
  },
  {
   "cell_type": "code",
   "execution_count": 18,
   "metadata": {},
   "outputs": [],
   "source": [
    "samples_len = {}\n",
    "for event in events:\n",
    "    samples_lvk = get_lvk_samples(PATH_TO_LVK_DATA, event, params)\n",
    "    samples_lvk_df = pd.DataFrame(samples_lvk)\n",
    "    samples_len[event] = len(samples_lvk_df)\n",
    "    samples_lvk_df.to_hdf(PATH_TO_RESULTS + 'posterior_samples/lvk_samples/lvk_samples_%s.hdf5' %event, mode='w', key='root')"
   ]
  },
  {
   "cell_type": "code",
   "execution_count": 20,
   "metadata": {},
   "outputs": [],
   "source": [
    "with open(PATH_TO_INFO + 'lvk_samples_len_%s.pkl' %waveform, 'wb') as f:\n",
    "        pickle.dump(samples_len, f)"
   ]
  },
  {
   "cell_type": "markdown",
   "metadata": {},
   "source": [
    "### GWFish samples"
   ]
  },
  {
   "cell_type": "code",
   "execution_count": 21,
   "metadata": {},
   "outputs": [],
   "source": [
    "with open(PATH_TO_INFO + 'lvk_samples_len_%s.pkl' %waveform, 'rb') as f:\n",
    "    samples_len = pickle.load(f)"
   ]
  },
  {
   "cell_type": "code",
   "execution_count": 22,
   "metadata": {},
   "outputs": [],
   "source": [
    "with open(PATH_TO_INFO + 'detectors_dictionary.pkl', 'rb') as f:\n",
    "    detectors = pickle.load(f)"
   ]
  },
  {
   "cell_type": "code",
   "execution_count": 23,
   "metadata": {},
   "outputs": [],
   "source": [
    "lbs_errs = ['snr', 'chirp_mass', 'mass_ratio', 'luminosity_distance', 'dec', 'ra', 'theta_jn',\n",
    "        'psi', 'phase', 'geocent_time', 'a_1', 'a_2', 'tilt_1', 'tilt_2', 'phi_12', 'phi_jl',\n",
    "        'err_chirp_mass', 'err_mass_ratio', 'err_luminosity_distance', 'err_dec', 'err_ra',\n",
    "        'err_theta_jn', 'err_psi', 'err_phase', 'err_geocent_time', 'err_a_1', 'err_a_2', 'err_tilt_1',\n",
    "        'err_tilt_2', 'err_phi_12', 'err_phi_jl', 'err_sky_location']"
   ]
  },
  {
   "cell_type": "code",
   "execution_count": 24,
   "metadata": {},
   "outputs": [
    {
     "name": "stderr",
     "output_type": "stream",
     "text": [
      "/var/folders/2f/xs1ws1zx6kz2y5t39btv9b6h0000gn/T/ipykernel_5671/58072437.py:9: RuntimeWarning: covariance is not symmetric positive-semidefinite.\n",
      "  samples = np.random.multivariate_normal(mns, cov, samples_len[event])\n"
     ]
    }
   ],
   "source": [
    "np.random.seed(42) # for reproducibility\n",
    "\n",
    "for event in events:\n",
    "    label_err = get_label(detectors, event, estimator, 0, 'errors')\n",
    "    label_cov = get_label(detectors, event, estimator, 0, 'inv_fishers')\n",
    "    data = pd.read_csv(PATH_TO_RESULTS + 'gwfish_medians/' + event + '/' + label_err, names = lbs_errs, delimiter=' ', skiprows=1)\n",
    "    mns = data[params].iloc[0].to_numpy()\n",
    "    cov = np.load(PATH_TO_RESULTS + 'gwfish_medians/' + event + '/' + label_cov)[0, :, :]\n",
    "    samples = np.random.multivariate_normal(mns, cov, samples_len[event])\n",
    "    samples_df = pd.DataFrame(samples, columns = params)\n",
    "    samples_df.to_hdf(PATH_TO_RESULTS + 'posterior_samples/fisher_samples/fisher_samples_%s_%s.hdf5' %(estimator, event), mode='w', key='root')"
   ]
  },
  {
   "cell_type": "markdown",
   "metadata": {},
   "source": [
    "### Fisher + Priors samples"
   ]
  },
  {
   "cell_type": "code",
   "execution_count": 25,
   "metadata": {},
   "outputs": [],
   "source": [
    "with open(PATH_TO_INFO + 'chirp_mass_priors_%s.pkl' %waveform, 'rb') as f:\n",
    "    chirp_mass_priors = pickle.load(f)"
   ]
  },
  {
   "cell_type": "code",
   "execution_count": 26,
   "metadata": {},
   "outputs": [],
   "source": [
    "with open(PATH_TO_INFO + 'geocent_time_priors_%s.pkl' %waveform, 'rb') as f:\n",
    "    geocent_time_priors = pickle.load(f)"
   ]
  },
  {
   "cell_type": "code",
   "execution_count": 27,
   "metadata": {},
   "outputs": [],
   "source": [
    "# Build priors range dictionary\n",
    "my_priors = {}\n",
    "for event in events:\n",
    "    event_dict = {\n",
    "        'chirp_mass': np.array([float(chirp_mass_priors[event][0]), float(chirp_mass_priors[event][1])]),\n",
    "        'mass_ratio': np.array([0.05, 1.0]),\n",
    "        'luminosity_distance': np.array([10, 10000]),\n",
    "        'dec': np.array([-np.pi/2, np.pi/2]),\n",
    "        'ra': np.array([0, 2*np.pi]),\n",
    "        'theta_jn': np.array([0, np.pi]),\n",
    "        'psi': np.array([0, np.pi]),\n",
    "        'phase': np.array([0, 2*np.pi]),\n",
    "        'geocent_time': np.array([float(geocent_time_priors[event][0]), float(geocent_time_priors[event][1])]),\n",
    "        'a_1': np.array([0, 0.99]),\n",
    "        'a_2': np.array([0, 0.99]),\n",
    "        'tilt_1': np.array([0, np.pi]),\n",
    "        'tilt_2': np.array([0, np.pi]),\n",
    "        'phi_12': np.array([0, 2*np.pi]),\n",
    "        'phi_jl': np.array([0, 2*np.pi])\n",
    "    }\n",
    "    my_priors[event] = event_dict"
   ]
  },
  {
   "cell_type": "code",
   "execution_count": 28,
   "metadata": {},
   "outputs": [],
   "source": [
    "min_array = np.array([-np.inf, 0, 0, -np.pi/2, 0, 0, 0, 0, -np.inf, 0, 0, 0, 0, 0, 0])\n",
    "max_array = np.array([np.inf, 1, 20000, np.pi/2, 2*np.pi, np.pi, np.pi, 2*np.pi, np.inf, 1, 1, np.pi, np.pi, 2*np.pi, 2*np.pi])\n",
    "\n",
    "for event in events:\n",
    "    label_err = get_label(detectors, event, estimator, 0, 'errors')\n",
    "    label_cov = get_label(detectors, event, estimator, 0, 'inv_fishers')\n",
    "    data = pd.read_csv(PATH_TO_RESULTS + 'gwfish_medians/' + event + '/' + label_err, names = lbs_errs, delimiter=' ', skiprows=1)\n",
    "    mns = data[params].iloc[0].to_numpy()\n",
    "    cov = np.load(PATH_TO_RESULTS + 'gwfish_medians/' + event +'/' + label_cov)[0, :, :]\n",
    "    samples_tmvn = get_samples_from_TMVN(min_array, max_array, mns, cov, samples_len[event])\n",
    "    new_df = pd.DataFrame(samples_tmvn.T, columns = params)\n",
    "    posteriors = get_posteriors(new_df, my_priors[event], samples_len[event])\n",
    "    posteriors_df = pd.DataFrame(posteriors, columns = params)\n",
    "    posteriors_df.to_hdf(PATH_TO_RESULTS + 'posterior_samples/fisher_plus_priors_samples/fisher_plus_priors_samples_%s_%s.hdf5' %(estimator, event), mode='w', key='root')"
   ]
  }
 ],
 "metadata": {
  "kernelspec": {
   "display_name": "gwfish",
   "language": "python",
   "name": "python3"
  },
  "language_info": {
   "codemirror_mode": {
    "name": "ipython",
    "version": 3
   },
   "file_extension": ".py",
   "mimetype": "text/x-python",
   "name": "python",
   "nbconvert_exporter": "python",
   "pygments_lexer": "ipython3",
   "version": "3.10.13"
  }
 },
 "nbformat": 4,
 "nbformat_minor": 2
}
