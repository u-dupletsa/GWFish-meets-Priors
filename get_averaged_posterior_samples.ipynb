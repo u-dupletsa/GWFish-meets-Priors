{
 "cells": [
  {
   "cell_type": "code",
   "execution_count": 1,
   "metadata": {},
   "outputs": [],
   "source": [
    "import warnings\n",
    "warnings.filterwarnings(\"ignore\", \"Wswiglal-redir-stdio\")\n",
    "\n",
    "from tools import *\n",
    "import numpy as np\n",
    "import pickle"
   ]
  },
  {
   "cell_type": "code",
   "execution_count": 2,
   "metadata": {},
   "outputs": [],
   "source": [
    "PATH_TO_LVK_DATA = '/Users/ulyanadupletsa/Documents/Paper2_Review/GWTC_data/'\n",
    "PATH_TO_POSTERIORS_AVERAGED = '/Users/ulyanadupletsa/Documents/Paper2_Review/results/posterior_samples_averaged/'\n",
    "PATH_TO_POSTERIORS_m1m2 = '/Users/ulyanadupletsa/Documents/Paper2_Review/results/posterior_samples_averaged_uniform_in_m12_prior/'\n",
    "PATH_TO_GWFISH_AVERAGED = '/Users/ulyanadupletsa/Documents/Paper2_Review/results/gwfish_averaged/'\n",
    "PATH_TO_INFO = '/Users/ulyanadupletsa/Documents/Paper2_Review/results/info/'\n",
    "PATH_TO_LVK_SAMPLES = '/Users/ulyanadupletsa/Documents/Paper2_Review/results/posterior_samples/lvk_samples_snr/'"
   ]
  },
  {
   "cell_type": "code",
   "execution_count": 3,
   "metadata": {},
   "outputs": [],
   "source": [
    "waveform = 'IMRPhenomXPHM'\n",
    "params = ['chirp_mass', 'mass_ratio', 'luminosity_distance', 'dec', 'ra', 'theta_jn', 'psi', 'phase', \n",
    "            'geocent_time', 'a_1', 'a_2', 'tilt_1', 'tilt_2', 'phi_12', 'phi_jl']"
   ]
  },
  {
   "cell_type": "code",
   "execution_count": 4,
   "metadata": {},
   "outputs": [],
   "source": [
    "events_list = np.loadtxt(PATH_TO_INFO + 'events_wf_median_priors_%s.txt' %waveform, dtype=str)\n",
    "with open(PATH_TO_INFO + 'detectors_dictionary.pkl', 'rb') as f:\n",
    "    detectors = pickle.load(f)"
   ]
  },
  {
   "cell_type": "code",
   "execution_count": 5,
   "metadata": {},
   "outputs": [
    {
     "data": {
      "text/plain": [
       "'IGWN-GWTC3p0-v2-GW191126_115259_PEDataRelease_mixed_cosmo'"
      ]
     },
     "execution_count": 5,
     "metadata": {},
     "output_type": "execute_result"
    }
   ],
   "source": [
    "events_list[0]"
   ]
  },
  {
   "cell_type": "code",
   "execution_count": 6,
   "metadata": {},
   "outputs": [],
   "source": [
    "with open(PATH_TO_INFO + 'lvk_samples_len_%s.pkl' %waveform, 'rb') as f:\n",
    "    samples_len = pickle.load(f)"
   ]
  },
  {
   "cell_type": "code",
   "execution_count": 7,
   "metadata": {},
   "outputs": [],
   "source": [
    "lbs_errs = ['snr', 'chirp_mass', 'mass_ratio', 'luminosity_distance', 'dec', 'ra', 'theta_jn',\n",
    "        'psi', 'phase', 'geocent_time', 'a_1', 'a_2', 'tilt_1', 'tilt_2', 'phi_12', 'phi_jl',\n",
    "        'network_optimal_snr',\n",
    "        'err_chirp_mass', 'err_mass_ratio', 'err_luminosity_distance', 'err_dec', 'err_ra',\n",
    "        'err_theta_jn', 'err_psi', 'err_phase', 'err_geocent_time', 'err_a_1', 'err_a_2', 'err_tilt_1',\n",
    "        'err_tilt_2', 'err_phi_12', 'err_phi_jl', 'err_sky_location']"
   ]
  },
  {
   "cell_type": "code",
   "execution_count": null,
   "metadata": {},
   "outputs": [],
   "source": [
    "np.random.seed(42) # for reproducibility\n",
    "rng = np.random.default_rng()\n",
    "\n",
    "for event in events_list:\n",
    "    label_err = get_label(detectors, event,'averaged', 0, 'errors')\n",
    "    label_cov = get_label(detectors, event, 'averaged', 0, 'inv_fishers')\n",
    "    data = pd.read_csv(PATH_TO_GWFISH_AVERAGED + event + '/' + label_err, names = lbs_errs, delimiter=' ', skiprows=1)\n",
    "    for i in range(len(data)):\n",
    "        mns = data[params].iloc[i].to_numpy()\n",
    "        cov = np.load(PATH_TO_GWFISH_AVERAGED + event + '/' + label_cov)[i, :, :]\n",
    "        samples = rng.multivariate_normal(mns, cov, samples_len[event])\n",
    "        #mysamples = my_multivariate_normal(mns, cov, samples_len[event])\n",
    "        samples_df = pd.DataFrame(samples, columns = params)\n",
    "        samples_df.to_hdf(PATH_TO_POSTERIORS_AVERAGED + 'fisher_samples/fisher_samples_%s_%s.hdf5' %(event, i), mode='w', key='root')"
   ]
  },
  {
   "cell_type": "code",
   "execution_count": 8,
   "metadata": {},
   "outputs": [],
   "source": [
    "with open(PATH_TO_INFO + 'chirp_mass_priors_%s.pkl' %waveform, 'rb') as f:\n",
    "    chirp_mass_priors = pickle.load(f)"
   ]
  },
  {
   "cell_type": "code",
   "execution_count": 9,
   "metadata": {},
   "outputs": [],
   "source": [
    "with open(PATH_TO_INFO + 'geocent_time_priors_%s.pkl' %waveform, 'rb') as f:\n",
    "    geocent_time_priors = pickle.load(f)"
   ]
  },
  {
   "cell_type": "code",
   "execution_count": 10,
   "metadata": {},
   "outputs": [],
   "source": [
    "# Build priors range dictionary\n",
    "my_priors = {}\n",
    "for event in events_list:\n",
    "    event_dict = {\n",
    "        'chirp_mass': np.array([float(chirp_mass_priors[event][0]), float(chirp_mass_priors[event][1])]),\n",
    "        'mass_ratio': np.array([0.05, 1.0]),\n",
    "        'luminosity_distance': np.array([10, 10000]),\n",
    "        'dec': np.array([-np.pi/2, np.pi/2]),\n",
    "        'ra': np.array([0, 2*np.pi]),\n",
    "        'theta_jn': np.array([0, np.pi]),\n",
    "        'psi': np.array([0, np.pi]),\n",
    "        'phase': np.array([0, 2*np.pi]),\n",
    "        'geocent_time': np.array([float(geocent_time_priors[event][0]), float(geocent_time_priors[event][1])]),\n",
    "        'a_1': np.array([0, 0.99]),\n",
    "        'a_2': np.array([0, 0.99]),\n",
    "        'tilt_1': np.array([0, np.pi]),\n",
    "        'tilt_2': np.array([0, np.pi]),\n",
    "        'phi_12': np.array([0, 2*np.pi]),\n",
    "        'phi_jl': np.array([0, 2*np.pi])\n",
    "    }\n",
    "    my_priors[event] = event_dict"
   ]
  },
  {
   "cell_type": "code",
   "execution_count": 11,
   "metadata": {},
   "outputs": [
    {
     "name": "stdout",
     "output_type": "stream",
     "text": [
      "Warning: Method may fail as covariance matrix is close to singular!\n",
      "Warning: Method may fail as covariance matrix is close to singular!\n",
      "Warning: Method may fail as covariance matrix is close to singular!\n",
      "Warning: Method may fail as covariance matrix is close to singular!\n",
      "Warning: Method may fail as covariance matrix is close to singular!\n",
      "Warning: Method may fail as covariance matrix is close to singular!\n",
      "Warning: Method may fail as covariance matrix is close to singular!\n",
      "Warning: Method may fail as covariance matrix is close to singular!\n",
      "Warning: Method may fail as covariance matrix is close to singular!\n",
      "Warning: Method may fail as covariance matrix is close to singular!\n",
      "Warning: Method may fail as covariance matrix is close to singular!\n",
      "Warning: Method may fail as covariance matrix is close to singular!\n",
      "Warning: Method may fail as covariance matrix is close to singular!\n",
      "Warning: Method may fail as covariance matrix is close to singular!\n"
     ]
    }
   ],
   "source": [
    "min_array = np.array([-np.inf, 0, 0, -np.pi/2, 0, 0, 0, 0, -np.inf, 0, 0, 0, 0, 0, 0])\n",
    "max_array = np.array([np.inf, 1, 20000, np.pi/2, 2*np.pi, np.pi, np.pi, 2*np.pi, np.inf, 1, 1, np.pi, np.pi, 2*np.pi, 2*np.pi])\n",
    "\n",
    "for event in events_list:\n",
    "    label_err = get_label(detectors, event,'averaged', 0, 'errors')\n",
    "    label_cov = get_label(detectors, event, 'averaged', 0, 'inv_fishers')\n",
    "    data = pd.read_csv(PATH_TO_GWFISH_AVERAGED + event + '/' + label_err, names = lbs_errs, delimiter=' ', skiprows=1)\n",
    "    for i in range(len(data)):\n",
    "        mns = data[params].iloc[i].to_numpy()\n",
    "        cov = np.load(PATH_TO_GWFISH_AVERAGED + event + '/' + label_cov)[i, :, :]\n",
    "        samples_tmvn = get_samples_from_TMVN(min_array, max_array, mns, cov, samples_len[event])\n",
    "        new_df = pd.DataFrame(samples_tmvn.T, columns = params)\n",
    "        if event == 'IGWN-GWTC3p0-v2-GW200322_091133_PEDataRelease_mixed_cosmo':\n",
    "            my_priors[event]['mass_ratio'] = np.array([0.02, 1.0])\n",
    "        posteriors = get_posteriors(new_df, my_priors[event], samples_len[event])\n",
    "        posteriors_df = pd.DataFrame(posteriors, columns = params)\n",
    "        posteriors_df.to_hdf(PATH_TO_POSTERIORS_m1m2 + 'fisher_plus_priors_samples/fisher_plus_priors_samples_%s_%s.hdf5' %(event, i), mode='w', key='root')"
   ]
  },
  {
   "cell_type": "code",
   "execution_count": null,
   "metadata": {},
   "outputs": [],
   "source": []
  }
 ],
 "metadata": {
  "kernelspec": {
   "display_name": "priors",
   "language": "python",
   "name": "python3"
  },
  "language_info": {
   "codemirror_mode": {
    "name": "ipython",
    "version": 3
   },
   "file_extension": ".py",
   "mimetype": "text/x-python",
   "name": "python",
   "nbconvert_exporter": "python",
   "pygments_lexer": "ipython3",
   "version": "3.9.20"
  }
 },
 "nbformat": 4,
 "nbformat_minor": 2
}
