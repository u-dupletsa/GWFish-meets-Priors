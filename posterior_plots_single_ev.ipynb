{
 "cells": [
  {
   "cell_type": "code",
   "execution_count": 1,
   "metadata": {},
   "outputs": [],
   "source": [
    "import numpy as np\n",
    "import pandas as pd\n",
    "import pickle\n",
    "import matplotlib.pyplot as plt\n",
    "import seaborn as sns"
   ]
  },
  {
   "cell_type": "code",
   "execution_count": 2,
   "metadata": {},
   "outputs": [],
   "source": [
    "PATH_TO_POSTERIORS = '/Users/ulyana/Documents/GSSI/PhD Projects/GWTC_results/results/posterior_samples/'\n",
    "PATH_TO_PLOTS = '/Users/ulyana/Documents/GSSI/PhD Projects/GWTC_results/plots/samples_plots/'\n",
    "PATH_TO_INFO = '/Users/ulyana/Documents/GSSI/PhD Projects/GWTC_results/info/'\n",
    "PATH_TO_INJECTIONS = '/Users/ulyana/Documents/GSSI/PhD Projects/GWTC_results/injections/'"
   ]
  },
  {
   "cell_type": "code",
   "execution_count": 3,
   "metadata": {},
   "outputs": [],
   "source": [
    "waveform = 'IMRPhenomXPHM'\n",
    "estimator = 'median'"
   ]
  },
  {
   "cell_type": "code",
   "execution_count": 4,
   "metadata": {},
   "outputs": [],
   "source": [
    "events = np.loadtxt(PATH_TO_INFO + 'events_wf_%s_priors_%s.txt' %(estimator, waveform), dtype=str)\n",
    "with open(PATH_TO_INFO + 'detectors_dictionary.pkl', 'rb') as f:\n",
    "    detectors = pickle.load(f)"
   ]
  },
  {
   "cell_type": "code",
   "execution_count": 5,
   "metadata": {},
   "outputs": [],
   "source": [
    "params = ['chirp_mass', 'mass_ratio', 'luminosity_distance', 'dec', 'ra', 'theta_jn', 'psi', 'phase', \n",
    "            'geocent_time', 'a_1', 'a_2', 'tilt_1', 'tilt_2', 'phi_12', 'phi_jl']"
   ]
  },
  {
   "cell_type": "code",
   "execution_count": 6,
   "metadata": {},
   "outputs": [],
   "source": [
    "my_colors = [(1.0, 0.4980392156862745, 0.054901960784313725), #orange\n",
    "            (0.12156862745098039, 0.4666666666666667, 0.7058823529411765)] #blue"
   ]
  },
  {
   "cell_type": "code",
   "execution_count": 7,
   "metadata": {},
   "outputs": [],
   "source": [
    "param_label = {'chirp_mass': r'$\\mathcal{M}_c$', 'mass_ratio': r'$q$', 'luminosity_distance': r'$d_L$',\n",
    "                'dec': r'$DEC$', 'ra': r'$RA$', 'theta_jn': r'$\\theta_{JN}$', 'psi': r'$\\Psi$',\n",
    "                'phase': r'$\\phi$', 'geocent_time': r'$t_c$', 'a_1': r'$a_1$', 'a_2': r'$a_2$',\n",
    "                'tilt_1': r'$tilt_1$', 'tilt_2': r'$tilt_2$', 'phi_12': r'$phi_{12}$',\n",
    "                'phi_jl': r'$phi_{JL}$'}"
   ]
  },
  {
   "cell_type": "code",
   "execution_count": 8,
   "metadata": {},
   "outputs": [],
   "source": [
    "param_unit = {'chirp_mass': r'[$M_{\\odot}$]', 'mass_ratio': r'', 'luminosity_distance': r'[Mpc]',\n",
    "                'dec': r'[rad]', 'ra': r'[rad]', 'theta_jn': r'[rad]', 'psi': r'[rad]',\n",
    "                'phase': r'[rad]', 'geocent_time': r'[s]', 'a_1': r'', 'a_2': r'',\n",
    "                'tilt_1': r'[rad]', 'tilt_2': r'[rad]', 'phi_12': r'[rad]',\n",
    "                'phi_jl': r'[rad]'}"
   ]
  },
  {
   "cell_type": "code",
   "execution_count": 9,
   "metadata": {},
   "outputs": [],
   "source": [
    "for event in events:\n",
    "\n",
    "    injections = pd.read_hdf(PATH_TO_INJECTIONS + event + '/%s_%s_%s.hdf5' %(event, waveform, estimator))\n",
    "    lvk_samples = pd.read_hdf(PATH_TO_POSTERIORS + 'lvk_samples/lvk_samples_%s.hdf5' %event)\n",
    "    fisher_samples = pd.read_hdf(PATH_TO_POSTERIORS + 'fisher_samples/fisher_samples_%s_%s.hdf5' %(estimator, event))\n",
    "    fisher_plus_priors_samples = pd.read_hdf(PATH_TO_POSTERIORS + 'fisher_plus_priors_samples/fisher_plus_priors_samples_%s_%s.hdf5' %(estimator, event))\n",
    "\n",
    "    fig, axs = plt.subplots(5, 3, figsize=(15, 10))\n",
    "\n",
    "    for i, param in enumerate(params):\n",
    "        ax = axs[i//3, i%3]\n",
    "        ax = sns.histplot(lvk_samples[param], element='step', ax=ax, label='LVK', alpha = 0.5, color = 'black')\n",
    "        ax.axvline(injections[param].values[0], color='red', label = 'injection', linewidth=1.5)\n",
    "        ax = sns.histplot(fisher_samples[param], element='step', ax=ax, label='Fisher', alpha = 0.25, color = my_colors[0])\n",
    "        ax = sns.histplot(fisher_plus_priors_samples[param], element='step', ax=ax, label='Fisher + Priors', alpha=0.5, color = my_colors[1])\n",
    "        \n",
    "        ax.set_ylabel('Count', fontsize=12)\n",
    "        ax.set_xlabel('%s %s' %(param_label[param], param_unit[param]), fontsize=12)\n",
    "        ax.set_yscale('log')\n",
    "        ax.tick_params(axis='both', which='major', labelsize=12)\n",
    "        ax.tick_params(axis='both', which='minor', labelsize=12)\n",
    "        ax.legend(fontsize=9)\n",
    "\n",
    "    plt.suptitle('%s' %event, fontsize=15)\n",
    "    plt.tight_layout()\n",
    "    plt.savefig(PATH_TO_PLOTS + 'samples_comparison_%s_%s.png' %(estimator, event), dpi=300)\n",
    "    plt.close()"
   ]
  }
 ],
 "metadata": {
  "kernelspec": {
   "display_name": "gwfish",
   "language": "python",
   "name": "python3"
  },
  "language_info": {
   "codemirror_mode": {
    "name": "ipython",
    "version": 3
   },
   "file_extension": ".py",
   "mimetype": "text/x-python",
   "name": "python",
   "nbconvert_exporter": "python",
   "pygments_lexer": "ipython3",
   "version": "3.10.13"
  }
 },
 "nbformat": 4,
 "nbformat_minor": 2
}
