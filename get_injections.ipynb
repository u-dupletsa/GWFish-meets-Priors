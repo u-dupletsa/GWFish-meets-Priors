{
 "cells": [
  {
   "cell_type": "markdown",
   "metadata": {},
   "source": [
    "# Get injections and detection information\n",
    "\n",
    "We want to compare the standard Bayesian results of the LVK GWTC data to a faster Fisher matrix approach (with and without adding the prior information). Therefore, we proceed as follows:\n",
    "1. We need **injections**: we consider BBH events (for which we have a record of the priors that were used for the Beysian analysis) and, in particular, we take the median value from the GWTC data as the injection for `gwfish`\n",
    "2. We need the list of **detectors** that detected each event and their **sensitivity curve** (since we know which detectors were operational for a given event, we do not consider the duty cycle)\n",
    "3. We do not impose any SNR threshold for the Fisher analysis (even though it is customary to set a threshold of at least SNR=8 for the Fisher analysis)\n",
    "4. We impose the very same **priors** as described in the LVK records"
   ]
  },
  {
   "cell_type": "code",
   "execution_count": 1,
   "metadata": {},
   "outputs": [],
   "source": [
    "from tools import *\n",
    "import numpy as np"
   ]
  },
  {
   "cell_type": "markdown",
   "metadata": {},
   "source": [
    "List of the main folders where results are stored"
   ]
  },
  {
   "cell_type": "code",
   "execution_count": 2,
   "metadata": {},
   "outputs": [],
   "source": [
    "PATH_TO_LVK_DATA = '/Users/ulyana/Documents/GSSI/PhD Projects/GWTC_results/GWTC_LVK_data/'\n",
    "PATH_TO_RESULTS = '/Users/ulyana/Documents/GSSI/PhD Projects/GWTC_results/'\n",
    "PATH_TO_YAML = '/Users/ulyana/Documents/GSSI/PhD Projects/GWTC_results/yamls/'\n",
    "PATH_TO_PSD = '/Users/ulyana/Documents/GSSI/PhD Projects/GWTC_results/gwtc_psds/'"
   ]
  },
  {
   "cell_type": "markdown",
   "metadata": {},
   "source": [
    "The waveform we choose is the `IMRPhenomXPHM` as this is the one used for BBH analysis in LVK and BBH sources are the ones in which we are interested (the majority of the detected signals)"
   ]
  },
  {
   "cell_type": "code",
   "execution_count": 3,
   "metadata": {},
   "outputs": [],
   "source": [
    "waveform = 'IMRPhenomXPHM'"
   ]
  },
  {
   "cell_type": "markdown",
   "metadata": {},
   "source": [
    "The function `get_events_list` goes through the GWTC data and makes list with the following properties:\n",
    "- list of events that are not BBHs (4 events): *events_without_wf_IMRPhenomXPHM.txt*\n",
    "- list of events that do not report the analytic priors used for the analysis (8 events): *events_without_priors_IMRPhenomXPHM.txt*\n",
    "- list of events that do not report the `maxP` estimate of the parameters: *events_without_maxP_IMRPhenomXPHM.txt*\n",
    "- list of events that are BBHs and have analytic priors (78 events): *events_wf_median_priors_IMRPhenomXPHM.txt*\n",
    "- list of events that are BBHs and have both analytic priors and the estimate of the `maxP` value (67 events): *events_wf_maxP_priors_IMRPhenomXPHM.txt*\n",
    "\n",
    "All events have the `median` value, easily retrieved from the posterior samples. The list of events with both the estimators, `median` and `maxP`, and analytic priors, are listed in *events_wf_median_maxP_priors_IMRPhenomXPHM.txt* (67 events)\n",
    "\n",
    "In our anaysis we use the 78 events from *events_wf_median_priors_IMRPhenomXPHM.txt*"
   ]
  },
  {
   "cell_type": "code",
   "execution_count": null,
   "metadata": {},
   "outputs": [],
   "source": [
    "get_events_list(PATH_TO_LVK_DATA, PATH_TO_RESULTS, waveform = 'IMRPhenomXPHM')"
   ]
  },
  {
   "cell_type": "code",
   "execution_count": 4,
   "metadata": {},
   "outputs": [],
   "source": [
    "events = np.loadtxt(PATH_TO_RESULTS + 'info/' + 'events_wf_median_priors_%s.txt' %waveform, dtype=str)"
   ]
  },
  {
   "cell_type": "markdown",
   "metadata": {},
   "source": [
    "Here is the list of the parameters we use for our analysis. We get the median value and use it as the injection for the Fisher analysis with `gwfish`."
   ]
  },
  {
   "cell_type": "code",
   "execution_count": 5,
   "metadata": {},
   "outputs": [],
   "source": [
    "params = ['chirp_mass', 'mass_ratio', 'luminosity_distance', 'dec', 'ra', 'theta_jn', 'psi', 'phase', \n",
    "            'geocent_time', 'a_1', 'a_2', 'tilt_1', 'tilt_2', 'phi_12', 'phi_jl']"
   ]
  },
  {
   "cell_type": "code",
   "execution_count": null,
   "metadata": {},
   "outputs": [],
   "source": [
    "get_injections_from_gwtc(PATH_TO_LVK_DATA, PATH_TO_RESULTS + 'injections/', events, waveform, params, 'median')"
   ]
  },
  {
   "cell_type": "markdown",
   "metadata": {},
   "source": [
    "For the complete analysis, in which we apply priors to our Fisher results, we need the same priors used in the LVK Bayesian analysis. All the parameters have fixed analytic forms for the prior, except for `chirp_mass` and `geocent_time`. This parameter has a uniform prior in a range that is event-dependent. To this scope, we store the lower and upper bounds from the LVK data in a specific dictionary."
   ]
  },
  {
   "cell_type": "code",
   "execution_count": null,
   "metadata": {},
   "outputs": [],
   "source": [
    "check_and_store_chirp_mass_priors(PATH_TO_LVK_DATA, PATH_TO_RESULTS, events, waveform)"
   ]
  },
  {
   "cell_type": "markdown",
   "metadata": {},
   "source": [
    "The same needs to be done with the `geocent_time` lower and upper range of the prior interval"
   ]
  },
  {
   "cell_type": "code",
   "execution_count": null,
   "metadata": {},
   "outputs": [],
   "source": [
    "check_and_store_geocent_time_priors(PATH_TO_LVK_DATA, PATH_TO_RESULTS, events, waveform)"
   ]
  },
  {
   "cell_type": "markdown",
   "metadata": {},
   "source": [
    "We also collect all the information about detectors that detected a certain event and their sensitivity curve at the time of detection. All of this information is stored in a specific format in a `.yaml` file that is then passed to `gwfish` for the fisher analysis."
   ]
  },
  {
   "cell_type": "code",
   "execution_count": 6,
   "metadata": {},
   "outputs": [],
   "source": [
    "detectors_and_yaml_files(PATH_TO_LVK_DATA, PATH_TO_RESULTS, PATH_TO_YAML, PATH_TO_PSD, events, waveform)"
   ]
  }
 ],
 "metadata": {
  "kernelspec": {
   "display_name": "gwfish",
   "language": "python",
   "name": "python3"
  },
  "language_info": {
   "codemirror_mode": {
    "name": "ipython",
    "version": 3
   },
   "file_extension": ".py",
   "mimetype": "text/x-python",
   "name": "python",
   "nbconvert_exporter": "python",
   "pygments_lexer": "ipython3",
   "version": "3.10.13"
  }
 },
 "nbformat": 4,
 "nbformat_minor": 2
}
