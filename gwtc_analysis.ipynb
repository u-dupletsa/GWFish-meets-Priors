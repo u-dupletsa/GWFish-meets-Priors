{
 "cells": [
  {
   "cell_type": "code",
   "execution_count": 1,
   "metadata": {},
   "outputs": [],
   "source": [
    "from tools import *\n",
    "import numpy as np"
   ]
  },
  {
   "cell_type": "code",
   "execution_count": 2,
   "metadata": {},
   "outputs": [],
   "source": [
    "PATH_TO_LVK_DATA = '/Users/ulyana/Documents/GSSI/PhD Projects/GWTC_analysis/GWTC_LVK_data/'\n",
    "PATH_TO_RESULTS = '/Users/ulyana/Documents/GSSI/PhD Projects/GWTC_analysis/'\n",
    "PATH_TO_YAML = '/Users/ulyana/Documents/GSSI/PhD Projects/GWTC_analysis/yaml/'\n",
    "PATH_TO_PSD = '/Users/ulyana/Documents/GSSI/PhD Projects/GWTC_analysis/gwtc_psds/'"
   ]
  },
  {
   "cell_type": "code",
   "execution_count": 3,
   "metadata": {},
   "outputs": [],
   "source": [
    "waveform = 'IMRPhenomXPHM'"
   ]
  },
  {
   "cell_type": "markdown",
   "metadata": {},
   "source": [
    "## Select events and create injections for GWFish"
   ]
  },
  {
   "cell_type": "code",
   "execution_count": 3,
   "metadata": {},
   "outputs": [],
   "source": [
    "estimator = 'maxP' # or 'median\n",
    "params = ['chirp_mass', 'mass_ratio', 'mass_1', 'mass_2', 'luminosity_distance', 'dec', 'ra', 'theta_jn', 'psi', 'phase', \n",
    "            'geocent_time', 'a_1', 'a_2', 'tilt_1', 'tilt_2', 'phi_12', 'phi_jl', 'redshift']"
   ]
  },
  {
   "cell_type": "code",
   "execution_count": 4,
   "metadata": {},
   "outputs": [
    {
     "name": "stderr",
     "output_type": "stream",
     "text": [
      "PyCBC.libutils: pkg-config call failed, setting NO_PKGCONFIG=1\n"
     ]
    }
   ],
   "source": [
    "create_injections_from_gwtc(PATH_TO_LVK_DATA, PATH_TO_RESULTS, waveform, params, estimator)"
   ]
  },
  {
   "cell_type": "code",
   "execution_count": 7,
   "metadata": {},
   "outputs": [],
   "source": [
    "# Intersect the injectiosn with median and maxP\n",
    "median_list = np.loadtxt(PATH_TO_RESULTS + 'info/event_list_%s_%s.txt' %(waveform, 'median'), dtype=str)\n",
    "maxP_list = np.loadtxt(PATH_TO_RESULTS + 'info/event_list_%s_%s.txt' %(waveform, 'maxP'), dtype=str)\n",
    "median_maxP_intersection_list = list(set(maxP_list).intersection(median_list))\n",
    "np.savetxt(PATH_TO_RESULTS + 'info/event_list_intersection_%s_%s.txt' %(waveform, 'median_maxP'), median_maxP_intersection_list, fmt='%s')\n"
   ]
  },
  {
   "cell_type": "code",
   "execution_count": 5,
   "metadata": {},
   "outputs": [],
   "source": [
    "# Select events that have an analytical prior\n",
    "events_maxP_median = np.loadtxt(PATH_TO_RESULTS + 'info/event_list_intersection_%s_median_maxP.txt' %(waveform), dtype=str)\n",
    "check_and_store_priors(PATH_TO_LVK_DATA, PATH_TO_RESULTS, events_maxP_median, waveform)"
   ]
  },
  {
   "cell_type": "markdown",
   "metadata": {},
   "source": [
    "## List of rejected events"
   ]
  },
  {
   "cell_type": "markdown",
   "metadata": {},
   "source": [
    "### Events rejected because not BBH "
   ]
  },
  {
   "cell_type": "markdown",
   "metadata": {},
   "source": [
    "Therefore, they are not analyzed using the waveform approximant IMRPhenomXPHM"
   ]
  },
  {
   "cell_type": "code",
   "execution_count": 8,
   "metadata": {},
   "outputs": [
    {
     "name": "stdout",
     "output_type": "stream",
     "text": [
      "['IGWN-GWTC3p0-v2-GW200105_162426_PEDataRelease_mixed_cosmo'\n",
      " 'IGWN-GWTC2p1-v2-GW190425_081805_PEDataRelease_mixed_cosmo'\n",
      " 'IGWN-GWTC3p0-v2-GW191219_163120_PEDataRelease_mixed_cosmo'\n",
      " 'IGWN-GWTC3p0-v2-GW200115_042309_PEDataRelease_mixed_cosmo']\n"
     ]
    }
   ],
   "source": [
    "no_imrphenomxphm = np.loadtxt(PATH_TO_RESULTS + 'info/waveform_not_in_list_IMRPhenomXPHM.txt', dtype=str)\n",
    "print(no_imrphenomxphm)"
   ]
  },
  {
   "cell_type": "markdown",
   "metadata": {},
   "source": [
    "### Events rejected because do no have a maxP estimate"
   ]
  },
  {
   "cell_type": "code",
   "execution_count": 9,
   "metadata": {},
   "outputs": [
    {
     "name": "stdout",
     "output_type": "stream",
     "text": [
      "['IGWN-GWTC3p0-v2-GW191126_115259_PEDataRelease_mixed_cosmo'\n",
      " 'IGWN-GWTC3p0-v2-GW200306_093714_PEDataRelease_mixed_cosmo'\n",
      " 'IGWN-GWTC3p0-v2-GW200308_173609_PEDataRelease_mixed_cosmo'\n",
      " 'IGWN-GWTC3p0-v2-GW191216_213338_PEDataRelease_mixed_cosmo'\n",
      " 'IGWN-GWTC3p0-v2-GW200316_215756_PEDataRelease_mixed_cosmo'\n",
      " 'IGWN-GWTC3p0-v2-GW191113_071753_PEDataRelease_mixed_cosmo'\n",
      " 'IGWN-GWTC3p0-v2-GW200322_091133_PEDataRelease_mixed_cosmo'\n",
      " 'IGWN-GWTC3p0-v2-GW191129_134029_PEDataRelease_mixed_cosmo'\n",
      " 'IGWN-GWTC3p0-v2-GW200220_124850_PEDataRelease_mixed_cosmo'\n",
      " 'IGWN-GWTC3p0-v2-GW200210_092254_PEDataRelease_mixed_cosmo'\n",
      " 'IGWN-GWTC3p0-v2-GW191204_171526_PEDataRelease_mixed_cosmo']\n"
     ]
    }
   ],
   "source": [
    "no_maxP = np.loadtxt(PATH_TO_RESULTS + 'info/maxP_not_in_list_for_%s.txt' %waveform, dtype=str)\n",
    "print(no_maxP)"
   ]
  },
  {
   "cell_type": "markdown",
   "metadata": {},
   "source": [
    "### Events rejected because they do not provide an analytic prior"
   ]
  },
  {
   "cell_type": "code",
   "execution_count": 10,
   "metadata": {},
   "outputs": [
    {
     "name": "stdout",
     "output_type": "stream",
     "text": [
      "['IGWN-GWTC2p1-v2-GW190917_114630_PEDataRelease_mixed_cosmo'\n",
      " 'IGWN-GWTC2p1-v2-GW190814_211039_PEDataRelease_mixed_cosmo'\n",
      " 'IGWN-GWTC2p1-v2-GW190924_021846_PEDataRelease_mixed_cosmo'\n",
      " 'IGWN-GWTC2p1-v2-GW170608_020116_PEDataRelease_mixed_cosmo'\n",
      " 'IGWN-GWTC2p1-v2-GW190728_064510_PEDataRelease_mixed_cosmo'\n",
      " 'IGWN-GWTC2p1-v2-GW190707_093326_PEDataRelease_mixed_cosmo'\n",
      " 'IGWN-GWTC2p1-v2-GW190720_000836_PEDataRelease_mixed_cosmo'\n",
      " 'IGWN-GWTC2p1-v2-GW190725_174728_PEDataRelease_mixed_cosmo']\n"
     ]
    }
   ],
   "source": [
    "no_prior = np.loadtxt(PATH_TO_RESULTS + 'info/events_with_no_priors_%s.txt' %waveform, dtype=str)\n",
    "print(no_prior)"
   ]
  },
  {
   "cell_type": "markdown",
   "metadata": {},
   "source": [
    "## Create .yaml files and store detectors information"
   ]
  },
  {
   "cell_type": "code",
   "execution_count": 4,
   "metadata": {},
   "outputs": [],
   "source": [
    "events = np.loadtxt(PATH_TO_RESULTS + 'info/' + 'events_with_priors_%s.txt' %waveform, dtype=str)"
   ]
  },
  {
   "cell_type": "code",
   "execution_count": 5,
   "metadata": {},
   "outputs": [],
   "source": [
    "detectors_and_yaml_files(PATH_TO_LVK_DATA, PATH_TO_RESULTS, PATH_TO_YAML, PATH_TO_PSD, events, waveform)"
   ]
  },
  {
   "cell_type": "markdown",
   "metadata": {},
   "source": [
    "## Fisher Analysis"
   ]
  },
  {
   "cell_type": "code",
   "execution_count": 4,
   "metadata": {},
   "outputs": [],
   "source": [
    "events = np.loadtxt(PATH_TO_RESULTS + 'info/' + 'events_with_priors_%s.txt' %waveform, dtype=str)\n",
    "with open(PATH_TO_RESULTS + 'info/' + 'detectors_dictionary.pkl', 'rb') as f:\n",
    "    detectors = pickle.load(f)"
   ]
  },
  {
   "cell_type": "code",
   "execution_count": 8,
   "metadata": {},
   "outputs": [
    {
     "name": "stderr",
     "output_type": "stream",
     "text": [
      "  0%|          | 0/67 [00:00<?, ?it/s]"
     ]
    },
    {
     "name": "stderr",
     "output_type": "stream",
     "text": [
      "100%|██████████| 67/67 [18:15<00:00, 16.36s/it]\n"
     ]
    }
   ],
   "source": [
    "estimator = 'median'\n",
    "waveform = 'IMRPhenomXPHM'\n",
    "fisher_parameters = ['mass_1', 'mass_2', 'luminosity_distance', 'dec', 'ra', 'theta_jn', 'psi', 'phase', \n",
    "            'geocent_time', 'a_1', 'a_2', 'tilt_1', 'tilt_2', 'phi_12', 'phi_jl']\n",
    "gw.fishermatrix.gwfish_analysisgwfish_analysis(PATH_TO_YAML, PATH_TO_RESULTS + '/injections/', events, waveform, estimator,\n",
    "                    detectors, fisher_parameters, PATH_TO_RESULTS + '/results/gwfish_m1_m2/')"
   ]
  },
  {
   "cell_type": "code",
   "execution_count": 9,
   "metadata": {},
   "outputs": [],
   "source": [
    "!mv Sing_* '../GWTC_analysis/results/gwfish_m1_m2_from_mChirp_q/sing_values/'\n",
    "!mv Errors* '../GWTC_analysis/results/gwfish_m1_m2_from_mChirp_q/errors/'\n",
    "!mv Fishers* '../GWTC_analysis/results/gwfish_m1_m2_from_mChirp_q/fishers/'\n",
    "!mv Inv_Fishers* '../GWTC_analysis/results/gwfish_m1_m2_from_mChirp_q/inv_fishers/'\n",
    "!mv Signals* '../GWTC_analysis/results/gwfish_m1_m2_from_mChirp_q/signals/'"
   ]
  },
  {
   "cell_type": "markdown",
   "metadata": {},
   "source": [
    "## Test"
   ]
  },
  {
   "cell_type": "code",
   "execution_count": 4,
   "metadata": {},
   "outputs": [],
   "source": [
    "fisher_parameters = ['mass_1', 'mass_2', 'luminosity_distance', 'dec', 'ra', 'theta_jn', 'psi', 'phase', \n",
    "            'geocent_time', 'a_1', 'a_2', 'tilt_1', 'tilt_2', 'phi_12', 'phi_jl']"
   ]
  },
  {
   "cell_type": "code",
   "execution_count": 24,
   "metadata": {},
   "outputs": [],
   "source": [
    "k=10"
   ]
  },
  {
   "cell_type": "code",
   "execution_count": 25,
   "metadata": {},
   "outputs": [],
   "source": [
    "estimator = 'median'\n",
    "events = np.loadtxt(PATH_TO_RESULTS + 'info/' + 'events_with_priors_%s.txt' %waveform, dtype=str)\n",
    "with open(PATH_TO_RESULTS + 'info/' + 'detectors_dictionary.pkl', 'rb') as f:\n",
    "    detectors = pickle.load(f)"
   ]
  },
  {
   "cell_type": "code",
   "execution_count": 26,
   "metadata": {},
   "outputs": [
    {
     "data": {
      "text/plain": [
       "'H1_L1_V1'"
      ]
     },
     "execution_count": 26,
     "metadata": {},
     "output_type": "execute_result"
    }
   ],
   "source": [
    "detectors_labels = list(detectors[events[k]])\n",
    "connector = '_'\n",
    "label = detectors_labels[0]\n",
    "for i in range(1, len(detectors_labels)):\n",
    "    label += connector + detectors_labels[i]\n",
    "label\n"
   ]
  },
  {
   "cell_type": "code",
   "execution_count": 27,
   "metadata": {},
   "outputs": [
    {
     "data": {
      "text/plain": [
       "array([[ 1.31805660e+00,  1.00469314e+00, -1.65290365e-04, ...,\n",
       "         1.15754616e+01,  4.71799615e+00, -4.24398494e-01],\n",
       "       [ 1.00469314e+00,  1.07122146e+00, -4.50378532e-04, ...,\n",
       "         7.13649007e+00,  7.41651703e-01, -5.39648518e-01],\n",
       "       [-1.65290365e-04, -4.50378532e-04,  1.22227015e-05, ...,\n",
       "         1.64507844e-03,  3.43064745e-03,  6.57760260e-04],\n",
       "       ...,\n",
       "       [ 1.15754616e+01,  7.13649007e+00,  1.64507844e-03, ...,\n",
       "         1.14987944e+02,  5.89457493e+01, -2.87508867e+00],\n",
       "       [ 4.71799615e+00,  7.41651703e-01,  3.43064745e-03, ...,\n",
       "         5.89457493e+01,  4.71705249e+01,  6.66909992e-01],\n",
       "       [-4.24398494e-01, -5.39648518e-01,  6.57760260e-04, ...,\n",
       "        -2.87508867e+00,  6.66909992e-01,  1.08415421e+00]])"
      ]
     },
     "execution_count": 27,
     "metadata": {},
     "output_type": "execute_result"
    }
   ],
   "source": [
    "# get fishers\n",
    "fishers = np.load(PATH_TO_RESULTS + 'results/gwfish_m1_m2_from_mChirp_q/fishers/' + 'Fishers_%s_%s_BBH_%s_SNR1.0.npy' %(label, estimator, events[k]))\n",
    "my_fish = fishers[0, :, :]\n",
    "my_fish"
   ]
  },
  {
   "cell_type": "code",
   "execution_count": 28,
   "metadata": {},
   "outputs": [],
   "source": [
    "import pandas as pd"
   ]
  },
  {
   "cell_type": "code",
   "execution_count": 29,
   "metadata": {},
   "outputs": [],
   "source": [
    "lbs = ['chirp_mass', 'mass_ratio', 'mass_1', 'mass_2', 'luminosity_distance', 'dec', 'ra', 'theta_jn', 'psi', 'phase',\\\n",
    "         'geocent_time', 'a_1', 'a_2', 'tilt_1', 'tilt_2', 'phi_12', 'phi_jl', 'redshift', 'mass1_lvk', 'mass2_lvk', 'snr']"
   ]
  },
  {
   "cell_type": "code",
   "execution_count": 30,
   "metadata": {},
   "outputs": [],
   "source": [
    "signals = pd.read_csv(PATH_TO_RESULTS + 'results/gwfish_m1_m2_from_mChirp_q/signals/' + 'Signals_%s_BBH_%s.txt' %(estimator, events[k]), names = lbs, skiprows = 1, delimiter = ' ')"
   ]
  },
  {
   "cell_type": "code",
   "execution_count": 31,
   "metadata": {},
   "outputs": [],
   "source": [
    "m1, m2 = signals[['mass_1', 'mass_2']].iloc[0]\n"
   ]
  },
  {
   "cell_type": "code",
   "execution_count": 32,
   "metadata": {},
   "outputs": [
    {
     "data": {
      "text/plain": [
       "42.35298604183378"
      ]
     },
     "execution_count": 32,
     "metadata": {},
     "output_type": "execute_result"
    }
   ],
   "source": [
    "m1"
   ]
  },
  {
   "cell_type": "code",
   "execution_count": 33,
   "metadata": {},
   "outputs": [],
   "source": [
    "rotated_fisher = jacobian_for_derivative_from_m1_m2_to_mChirp_q(m1, m2, fishers)"
   ]
  },
  {
   "cell_type": "code",
   "execution_count": 34,
   "metadata": {},
   "outputs": [
    {
     "data": {
      "text/plain": [
       "array([[[ 2.39714535e+00,  4.78213022e+01, -2.22909045e-04,\n",
       "         ...,  1.56105597e+01,  6.36264563e+00,\n",
       "         -5.72339853e-01],\n",
       "        [ 4.78213022e+01,  1.33442717e+03, -1.58959134e-02,\n",
       "         ...,  2.51879297e+02,  2.61762726e+01,\n",
       "         -1.90466585e+01],\n",
       "        [-2.22909045e-04, -1.58959134e-02,  1.22227015e-05,\n",
       "         ...,  1.64507844e-03,  3.43064745e-03,\n",
       "          6.57760260e-04],\n",
       "        ...,\n",
       "        [ 1.56105597e+01,  2.51879297e+02,  1.64507844e-03,\n",
       "         ...,  1.14987944e+02,  5.89457493e+01,\n",
       "         -2.87508867e+00],\n",
       "        [ 6.36264563e+00,  2.61762726e+01,  3.43064745e-03,\n",
       "         ...,  5.89457493e+01,  4.71705249e+01,\n",
       "          6.66909992e-01],\n",
       "        [-5.72339853e-01, -1.90466585e+01,  6.57760260e-04,\n",
       "         ..., -2.87508867e+00,  6.66909992e-01,\n",
       "          1.08415421e+00]]])"
      ]
     },
     "execution_count": 34,
     "metadata": {},
     "output_type": "execute_result"
    }
   ],
   "source": [
    "rotated_fisher"
   ]
  },
  {
   "cell_type": "code",
   "execution_count": 35,
   "metadata": {},
   "outputs": [],
   "source": [
    "import GWFish.modules as gw"
   ]
  },
  {
   "cell_type": "code",
   "execution_count": 36,
   "metadata": {},
   "outputs": [],
   "source": [
    "inv_rotated_fisher, sing_values = gw.fishermatrix.invertSVD(rotated_fisher[0, :, :])"
   ]
  },
  {
   "cell_type": "code",
   "execution_count": 37,
   "metadata": {},
   "outputs": [
    {
     "data": {
      "text/plain": [
       "array([[ 5.42006968e+01, -1.20051177e+00,  1.66589896e+02, ...,\n",
       "         3.80796078e+00,  8.77468396e-01, -1.42945520e+00],\n",
       "       [-1.20051177e+00,  5.79887395e-02,  4.23649082e+01, ...,\n",
       "        -2.42593743e-01, -2.20969048e-02,  2.15807276e-02],\n",
       "       [ 1.66589896e+02,  4.23649082e+01,  2.36114632e+05, ...,\n",
       "        -4.71559551e+02,  6.56575523e+01, -3.12018332e+01],\n",
       "       ...,\n",
       "       [ 3.80796078e+00, -2.42593743e-01, -4.71559551e+02, ...,\n",
       "         5.67186345e+00, -2.70694031e-02,  4.30847659e-01],\n",
       "       [ 8.77468396e-01, -2.20969048e-02,  6.56575523e+01, ...,\n",
       "        -2.70694031e-02,  2.64530539e+00, -1.19426198e+00],\n",
       "       [-1.42945520e+00,  2.15807276e-02, -3.12018332e+01, ...,\n",
       "         4.30847659e-01, -1.19426198e+00,  4.65129234e+00]])"
      ]
     },
     "execution_count": 37,
     "metadata": {},
     "output_type": "execute_result"
    }
   ],
   "source": [
    "inv_rotated_fisher"
   ]
  },
  {
   "cell_type": "code",
   "execution_count": 38,
   "metadata": {},
   "outputs": [
    {
     "name": "stdout",
     "output_type": "stream",
     "text": [
      "[7.36211225e+00 2.40808512e-01 4.85916281e+02 2.85193726e-01\n",
      " 4.80689589e-01 2.91091213e-01 4.13489773e-01 6.64048860e-01\n",
      " 5.25167962e-03 8.23878305e-01 9.17547402e-01 1.31190035e+00\n",
      " 2.38156744e+00 1.62643948e+00 2.15668550e+00]\n"
     ]
    }
   ],
   "source": [
    "print(np.sqrt(np.diagonal(inv_rotated_fisher)))"
   ]
  },
  {
   "cell_type": "code",
   "execution_count": 39,
   "metadata": {},
   "outputs": [],
   "source": [
    "cov = np.load(PATH_TO_RESULTS + 'results/gwfish_m1_m2_from_mChirp_q/inv_fishers/' + 'Inv_Fishers_%s_%s_BBH_%s_SNR1.0.npy' %(label, estimator, events[k]))"
   ]
  },
  {
   "cell_type": "code",
   "execution_count": 40,
   "metadata": {},
   "outputs": [
    {
     "data": {
      "text/plain": [
       "array([9.92847596e+00, 8.49923115e+00, 4.85916281e+02,\n",
       "       2.85193726e-01, 4.80689589e-01, 2.91091213e-01,\n",
       "       4.13489773e-01, 6.64048860e-01, 5.25167962e-03,\n",
       "       8.23878305e-01, 9.17547402e-01, 1.31190035e+00,\n",
       "       2.38156744e+00, 1.62643948e+00, 2.15668550e+00])"
      ]
     },
     "execution_count": 40,
     "metadata": {},
     "output_type": "execute_result"
    }
   ],
   "source": [
    "np.sqrt(np.diagonal(cov[0, :, :]))"
   ]
  },
  {
   "cell_type": "code",
   "execution_count": 41,
   "metadata": {},
   "outputs": [
    {
     "data": {
      "text/plain": [
       "'IGWN-GWTC2p1-v2-GW190915_235702_PEDataRelease_mixed_cosmo'"
      ]
     },
     "execution_count": 41,
     "metadata": {},
     "output_type": "execute_result"
    }
   ],
   "source": [
    "events[k]"
   ]
  },
  {
   "cell_type": "markdown",
   "metadata": {},
   "source": [
    "## Rotate Fisher matrix from m1-m2 to mChirp and q"
   ]
  },
  {
   "cell_type": "code",
   "execution_count": 4,
   "metadata": {},
   "outputs": [],
   "source": [
    "estimator = 'median'\n",
    "events = np.loadtxt(PATH_TO_RESULTS + 'info/' + 'events_with_priors_%s.txt' %waveform, dtype=str)\n",
    "with open(PATH_TO_RESULTS + 'info/' + 'detectors_dictionary.pkl', 'rb') as f:\n",
    "    detectors = pickle.load(f)"
   ]
  },
  {
   "cell_type": "code",
   "execution_count": 5,
   "metadata": {},
   "outputs": [],
   "source": [
    "lbs_signals = ['chirp_mass', 'mass_ratio', 'mass_1', 'mass_2', 'luminosity_distance', 'dec', 'ra', 'theta_jn', 'psi', 'phase',\\\n",
    "         'geocent_time', 'a_1', 'a_2', 'tilt_1', 'tilt_2', 'phi_12', 'phi_jl', 'redshift', 'mass1_lvk', 'mass2_lvk', 'snr']"
   ]
  },
  {
   "cell_type": "code",
   "execution_count": 6,
   "metadata": {},
   "outputs": [],
   "source": [
    "lbs_errs = ['snr', 'chirp_mass', 'mass_ratio', 'mass_1', 'mass_2', 'luminosity_distance', 'dec', 'ra', 'theta_jn',\n",
    "        'psi', 'phase', 'geocent_time', 'a_1', 'a_2', 'tilt_1', 'tilt_2', 'phi_12', 'phi_jl', 'redshift', \n",
    "        'mass1_lvk', 'mass2_lvk', 'err_mass_1', 'err_mass_2', 'err_luminosity_distance', 'err_dec', 'err_ra',\n",
    "        'err_theta_jn', 'err_psi', 'err_phase', 'err_geocent_time', 'err_a_1', 'err_a_2', 'err_tilt_1',\n",
    "        'err_tilt_2', 'err_phi_12', 'err_phi_jl', 'err_sky_location']"
   ]
  },
  {
   "cell_type": "code",
   "execution_count": 7,
   "metadata": {},
   "outputs": [],
   "source": [
    "new_fisher_parameters = ['chirp_mass', 'mass_ratio', 'luminosity_distance', 'dec', 'ra', 'theta_jn', 'psi', 'phase',\n",
    "            'geocent_time', 'a_1', 'a_2', 'tilt_1', 'tilt_2', 'phi_12', 'phi_jl']"
   ]
  },
  {
   "cell_type": "code",
   "execution_count": 8,
   "metadata": {},
   "outputs": [],
   "source": [
    "get_rotated_fisher_matrix(PATH_TO_RESULTS, PATH_TO_RESULTS, events, detectors, \n",
    "                          estimator, lbs_signals, lbs_errs, new_fisher_parameters)"
   ]
  },
  {
   "cell_type": "markdown",
   "metadata": {},
   "source": [
    "## Apply priors"
   ]
  },
  {
   "cell_type": "code",
   "execution_count": null,
   "metadata": {},
   "outputs": [],
   "source": []
  }
 ],
 "metadata": {
  "kernelspec": {
   "display_name": "gwtc3_env",
   "language": "python",
   "name": "python3"
  },
  "language_info": {
   "codemirror_mode": {
    "name": "ipython",
    "version": 3
   },
   "file_extension": ".py",
   "mimetype": "text/x-python",
   "name": "python",
   "nbconvert_exporter": "python",
   "pygments_lexer": "ipython3",
   "version": "3.9.18"
  }
 },
 "nbformat": 4,
 "nbformat_minor": 2
}
