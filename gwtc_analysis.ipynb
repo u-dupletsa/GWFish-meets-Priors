{
 "cells": [
  {
   "cell_type": "code",
   "execution_count": 1,
   "metadata": {},
   "outputs": [],
   "source": [
    "from utils import *"
   ]
  },
  {
   "cell_type": "code",
   "execution_count": 6,
   "metadata": {},
   "outputs": [],
   "source": [
    "PATH_TO_LVK_DATA = '/Users/ulyana/Documents/GSSI/PhD Projects/GWTC_analysis/GWTC_LVK_data/'\n",
    "PATH_TO_RESULTS = '/Users/ulyana/Documents/GSSI/PhD Projects/GWTC_analysis/'\n",
    "PATH_TO_YAML = '/Users/ulyana/Documents/GSSI/PhD Projects/GWTC_analysis/yaml/'\n",
    "PATH_TO_PSD = '/Users/ulyana/Documents/GSSI/PhD Projects/GWTC_analysis/gwtc_psds/'"
   ]
  },
  {
   "cell_type": "code",
   "execution_count": 3,
   "metadata": {},
   "outputs": [],
   "source": [
    "waveform = 'IMRPhenomXPHM'"
   ]
  },
  {
   "cell_type": "markdown",
   "metadata": {},
   "source": [
    "## Select events and create injections for GWFish"
   ]
  },
  {
   "cell_type": "code",
   "execution_count": 3,
   "metadata": {},
   "outputs": [],
   "source": [
    "estimator = 'maxP' # or 'median\n",
    "params = ['chirp_mass', 'mass_ratio', 'mass_1', 'mass_2', 'luminosity_distance', 'dec', 'ra', 'theta_jn', 'psi', 'phase', \n",
    "            'geocent_time', 'a_1', 'a_2', 'tilt_1', 'tilt_2', 'phi_12', 'phi_jl', 'redshift']"
   ]
  },
  {
   "cell_type": "code",
   "execution_count": 4,
   "metadata": {},
   "outputs": [
    {
     "name": "stderr",
     "output_type": "stream",
     "text": [
      "PyCBC.libutils: pkg-config call failed, setting NO_PKGCONFIG=1\n"
     ]
    }
   ],
   "source": [
    "create_injections_from_gwtc(PATH_TO_LVK_DATA, PATH_TO_RESULTS, waveform, params, estimator)"
   ]
  },
  {
   "cell_type": "code",
   "execution_count": 7,
   "metadata": {},
   "outputs": [],
   "source": [
    "# Intersect the injectiosn with median and maxP\n",
    "median_list = np.loadtxt(PATH_TO_RESULTS + 'info/event_list_%s_%s.txt' %(waveform, 'median'), dtype=str)\n",
    "maxP_list = np.loadtxt(PATH_TO_RESULTS + 'info/event_list_%s_%s.txt' %(waveform, 'maxP'), dtype=str)\n",
    "median_maxP_intersection_list = list(set(maxP_list).intersection(median_list))\n",
    "np.savetxt(PATH_TO_RESULTS + 'info/event_list_intersection_%s_%s.txt' %(waveform, 'median_maxP'), median_maxP_intersection_list, fmt='%s')\n"
   ]
  },
  {
   "cell_type": "code",
   "execution_count": 5,
   "metadata": {},
   "outputs": [],
   "source": [
    "# Select events that have an analytical prior\n",
    "events_maxP_median = np.loadtxt(PATH_TO_RESULTS + 'info/event_list_intersection_%s_median_maxP.txt' %(waveform), dtype=str)\n",
    "check_and_store_priors(PATH_TO_LVK_DATA, PATH_TO_RESULTS, events_maxP_median, waveform)"
   ]
  },
  {
   "cell_type": "markdown",
   "metadata": {},
   "source": [
    "## List of rejected events"
   ]
  },
  {
   "cell_type": "markdown",
   "metadata": {},
   "source": [
    "### Events rejected because not BBH "
   ]
  },
  {
   "cell_type": "markdown",
   "metadata": {},
   "source": [
    "Therefore, they are not analyzed using the waveform approximant IMRPhenomXPHM"
   ]
  },
  {
   "cell_type": "code",
   "execution_count": 8,
   "metadata": {},
   "outputs": [
    {
     "name": "stdout",
     "output_type": "stream",
     "text": [
      "['IGWN-GWTC3p0-v2-GW200105_162426_PEDataRelease_mixed_cosmo'\n",
      " 'IGWN-GWTC2p1-v2-GW190425_081805_PEDataRelease_mixed_cosmo'\n",
      " 'IGWN-GWTC3p0-v2-GW191219_163120_PEDataRelease_mixed_cosmo'\n",
      " 'IGWN-GWTC3p0-v2-GW200115_042309_PEDataRelease_mixed_cosmo']\n"
     ]
    }
   ],
   "source": [
    "no_imrphenomxphm = np.loadtxt(PATH_TO_RESULTS + 'info/waveform_not_in_list_IMRPhenomXPHM.txt', dtype=str)\n",
    "print(no_imrphenomxphm)"
   ]
  },
  {
   "cell_type": "markdown",
   "metadata": {},
   "source": [
    "### Events rejected because do no have a maxP estimate"
   ]
  },
  {
   "cell_type": "code",
   "execution_count": 9,
   "metadata": {},
   "outputs": [
    {
     "name": "stdout",
     "output_type": "stream",
     "text": [
      "['IGWN-GWTC3p0-v2-GW191126_115259_PEDataRelease_mixed_cosmo'\n",
      " 'IGWN-GWTC3p0-v2-GW200306_093714_PEDataRelease_mixed_cosmo'\n",
      " 'IGWN-GWTC3p0-v2-GW200308_173609_PEDataRelease_mixed_cosmo'\n",
      " 'IGWN-GWTC3p0-v2-GW191216_213338_PEDataRelease_mixed_cosmo'\n",
      " 'IGWN-GWTC3p0-v2-GW200316_215756_PEDataRelease_mixed_cosmo'\n",
      " 'IGWN-GWTC3p0-v2-GW191113_071753_PEDataRelease_mixed_cosmo'\n",
      " 'IGWN-GWTC3p0-v2-GW200322_091133_PEDataRelease_mixed_cosmo'\n",
      " 'IGWN-GWTC3p0-v2-GW191129_134029_PEDataRelease_mixed_cosmo'\n",
      " 'IGWN-GWTC3p0-v2-GW200220_124850_PEDataRelease_mixed_cosmo'\n",
      " 'IGWN-GWTC3p0-v2-GW200210_092254_PEDataRelease_mixed_cosmo'\n",
      " 'IGWN-GWTC3p0-v2-GW191204_171526_PEDataRelease_mixed_cosmo']\n"
     ]
    }
   ],
   "source": [
    "no_maxP = np.loadtxt(PATH_TO_RESULTS + 'info/maxP_not_in_list_for_%s.txt' %waveform, dtype=str)\n",
    "print(no_maxP)"
   ]
  },
  {
   "cell_type": "markdown",
   "metadata": {},
   "source": [
    "### Events rejected because they do not provide an analytic prior"
   ]
  },
  {
   "cell_type": "code",
   "execution_count": 10,
   "metadata": {},
   "outputs": [
    {
     "name": "stdout",
     "output_type": "stream",
     "text": [
      "['IGWN-GWTC2p1-v2-GW190917_114630_PEDataRelease_mixed_cosmo'\n",
      " 'IGWN-GWTC2p1-v2-GW190814_211039_PEDataRelease_mixed_cosmo'\n",
      " 'IGWN-GWTC2p1-v2-GW190924_021846_PEDataRelease_mixed_cosmo'\n",
      " 'IGWN-GWTC2p1-v2-GW170608_020116_PEDataRelease_mixed_cosmo'\n",
      " 'IGWN-GWTC2p1-v2-GW190728_064510_PEDataRelease_mixed_cosmo'\n",
      " 'IGWN-GWTC2p1-v2-GW190707_093326_PEDataRelease_mixed_cosmo'\n",
      " 'IGWN-GWTC2p1-v2-GW190720_000836_PEDataRelease_mixed_cosmo'\n",
      " 'IGWN-GWTC2p1-v2-GW190725_174728_PEDataRelease_mixed_cosmo']\n"
     ]
    }
   ],
   "source": [
    "no_prior = np.loadtxt(PATH_TO_RESULTS + 'info/events_with_no_priors_%s.txt' %waveform, dtype=str)\n",
    "print(no_prior)"
   ]
  },
  {
   "cell_type": "markdown",
   "metadata": {},
   "source": [
    "## Create .yaml files and store detectors information"
   ]
  },
  {
   "cell_type": "code",
   "execution_count": 4,
   "metadata": {},
   "outputs": [],
   "source": [
    "events = np.loadtxt(PATH_TO_RESULTS + 'info/' + 'events_with_priors_%s.txt' %waveform, dtype=str)"
   ]
  },
  {
   "cell_type": "code",
   "execution_count": 7,
   "metadata": {},
   "outputs": [],
   "source": [
    "detectors_and_yaml_files(PATH_TO_LVK_DATA, PATH_TO_RESULTS, PATH_TO_YAML, PATH_TO_PSD, events, waveform)"
   ]
  },
  {
   "cell_type": "code",
   "execution_count": null,
   "metadata": {},
   "outputs": [],
   "source": []
  }
 ],
 "metadata": {
  "kernelspec": {
   "display_name": "gwtc3_env",
   "language": "python",
   "name": "python3"
  },
  "language_info": {
   "codemirror_mode": {
    "name": "ipython",
    "version": 3
   },
   "file_extension": ".py",
   "mimetype": "text/x-python",
   "name": "python",
   "nbconvert_exporter": "python",
   "pygments_lexer": "ipython3",
   "version": "3.9.18"
  }
 },
 "nbformat": 4,
 "nbformat_minor": 2
}
