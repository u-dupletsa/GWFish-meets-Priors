{
 "cells": [
  {
   "cell_type": "code",
   "execution_count": 1,
   "metadata": {},
   "outputs": [],
   "source": [
    "from tools import *\n",
    "import numpy as np"
   ]
  },
  {
   "cell_type": "code",
   "execution_count": 2,
   "metadata": {},
   "outputs": [],
   "source": [
    "PATH_TO_LVK_DATA = '/Users/ulyana/Documents/GSSI/PhD Projects/GWTC_analysis/GWTC_LVK_data/'\n",
    "PATH_TO_RESULTS = '/Users/ulyana/Documents/GSSI/PhD Projects/GWTC_analysis/'\n",
    "PATH_TO_YAML = '/Users/ulyana/Documents/GSSI/PhD Projects/GWTC_analysis/yaml/'\n",
    "PATH_TO_PSD = '/Users/ulyana/Documents/GSSI/PhD Projects/GWTC_analysis/gwtc_psds/'"
   ]
  },
  {
   "cell_type": "code",
   "execution_count": 3,
   "metadata": {},
   "outputs": [],
   "source": [
    "waveform = 'IMRPhenomXPHM'"
   ]
  },
  {
   "cell_type": "markdown",
   "metadata": {},
   "source": [
    "## Select events and create injections for GWFish"
   ]
  },
  {
   "cell_type": "code",
   "execution_count": null,
   "metadata": {},
   "outputs": [],
   "source": [
    "estimator = 'maxP' # or 'median\n",
    "params = ['chirp_mass', 'mass_ratio', 'mass_1', 'mass_2', 'luminosity_distance', 'dec', 'ra', 'theta_jn', 'psi', 'phase', \n",
    "            'geocent_time', 'a_1', 'a_2', 'tilt_1', 'tilt_2', 'phi_12', 'phi_jl', 'redshift']"
   ]
  },
  {
   "cell_type": "code",
   "execution_count": null,
   "metadata": {},
   "outputs": [],
   "source": [
    "create_injections_from_gwtc(PATH_TO_LVK_DATA, PATH_TO_RESULTS, waveform, params, estimator)"
   ]
  },
  {
   "cell_type": "code",
   "execution_count": null,
   "metadata": {},
   "outputs": [],
   "source": [
    "# Intersect the injectiosn with median and maxP\n",
    "median_list = np.loadtxt(PATH_TO_RESULTS + 'info/event_list_%s_%s.txt' %(waveform, 'median'), dtype=str)\n",
    "maxP_list = np.loadtxt(PATH_TO_RESULTS + 'info/event_list_%s_%s.txt' %(waveform, 'maxP'), dtype=str)\n",
    "median_maxP_intersection_list = list(set(maxP_list).intersection(median_list))\n",
    "np.savetxt(PATH_TO_RESULTS + 'info/event_list_intersection_%s_%s.txt' %(waveform, 'median_maxP'), median_maxP_intersection_list, fmt='%s')\n"
   ]
  },
  {
   "cell_type": "code",
   "execution_count": null,
   "metadata": {},
   "outputs": [],
   "source": [
    "# Select events that have an analytical prior\n",
    "events_maxP_median = np.loadtxt(PATH_TO_RESULTS + 'info/event_list_intersection_%s_median_maxP.txt' %(waveform), dtype=str)\n",
    "check_and_store_priors(PATH_TO_LVK_DATA, PATH_TO_RESULTS, events_maxP_median, waveform)"
   ]
  },
  {
   "cell_type": "markdown",
   "metadata": {},
   "source": [
    "## List of rejected events"
   ]
  },
  {
   "cell_type": "markdown",
   "metadata": {},
   "source": [
    "### Events rejected because not BBH "
   ]
  },
  {
   "cell_type": "markdown",
   "metadata": {},
   "source": [
    "Therefore, they are not analyzed using the waveform approximant IMRPhenomXPHM"
   ]
  },
  {
   "cell_type": "code",
   "execution_count": null,
   "metadata": {},
   "outputs": [],
   "source": [
    "no_imrphenomxphm = np.loadtxt(PATH_TO_RESULTS + 'info/waveform_not_in_list_IMRPhenomXPHM.txt', dtype=str)\n",
    "print(no_imrphenomxphm)"
   ]
  },
  {
   "cell_type": "markdown",
   "metadata": {},
   "source": [
    "### Events rejected because do no have a maxP estimate"
   ]
  },
  {
   "cell_type": "code",
   "execution_count": null,
   "metadata": {},
   "outputs": [],
   "source": [
    "no_maxP = np.loadtxt(PATH_TO_RESULTS + 'info/maxP_not_in_list_for_%s.txt' %waveform, dtype=str)\n",
    "print(no_maxP)"
   ]
  },
  {
   "cell_type": "markdown",
   "metadata": {},
   "source": [
    "### Events rejected because they do not provide an analytic prior"
   ]
  },
  {
   "cell_type": "code",
   "execution_count": null,
   "metadata": {},
   "outputs": [],
   "source": [
    "no_prior = np.loadtxt(PATH_TO_RESULTS + 'info/events_with_no_priors_%s.txt' %waveform, dtype=str)\n",
    "print(no_prior)"
   ]
  },
  {
   "cell_type": "markdown",
   "metadata": {},
   "source": [
    "## Create .yaml files and store detectors information"
   ]
  },
  {
   "cell_type": "code",
   "execution_count": null,
   "metadata": {},
   "outputs": [],
   "source": [
    "events = np.loadtxt(PATH_TO_RESULTS + 'info/' + 'events_with_priors_%s.txt' %waveform, dtype=str)"
   ]
  },
  {
   "cell_type": "code",
   "execution_count": null,
   "metadata": {},
   "outputs": [],
   "source": [
    "detectors_and_yaml_files(PATH_TO_LVK_DATA, PATH_TO_RESULTS, PATH_TO_YAML, PATH_TO_PSD, events, waveform)"
   ]
  },
  {
   "cell_type": "markdown",
   "metadata": {},
   "source": [
    "## Fisher Analysis"
   ]
  },
  {
   "cell_type": "code",
   "execution_count": 4,
   "metadata": {},
   "outputs": [],
   "source": [
    "events = np.loadtxt(PATH_TO_RESULTS + 'info/' + 'events_with_priors_%s.txt' %waveform, dtype=str)\n",
    "with open(PATH_TO_RESULTS + 'info/' + 'detectors_dictionary.pkl', 'rb') as f:\n",
    "    detectors = pickle.load(f)"
   ]
  },
  {
   "cell_type": "code",
   "execution_count": null,
   "metadata": {},
   "outputs": [],
   "source": [
    "estimator = 'maxP'\n",
    "#fisher_parameters = ['chirp_mass', 'mass_ratio', 'luminosity_distance', 'dec', 'ra', 'theta_jn', 'psi', 'phase', \n",
    "#            'geocent_time', 'a_1', 'a_2', 'tilt_1', 'tilt_2', 'phi_12', 'phi_jl']\n",
    "fisher_parameters = ['chirp_mass', 'mass_ratio', 'luminosity_distance', 'dec', 'ra', 'theta_jn', 'psi', 'phase', \n",
    "            'geocent_time', 'a_1', 'a_2', 'tilt_1', 'tilt_2', 'phi_12', 'phi_jl']\n",
    "gwfish_analysis(PATH_TO_YAML, PATH_TO_RESULTS + '/injections/', events, waveform, estimator,\n",
    "                    detectors, fisher_parameters, PATH_TO_RESULTS + '/results/gwfish_mChirp_q/')"
   ]
  },
  {
   "cell_type": "markdown",
   "metadata": {},
   "source": [
    "## Rotate Fisher matrix from m1-m2 to mChirp and q"
   ]
  },
  {
   "cell_type": "code",
   "execution_count": 4,
   "metadata": {},
   "outputs": [],
   "source": [
    "estimator = 'median'\n",
    "events = np.loadtxt(PATH_TO_RESULTS + 'info/' + 'events_with_priors_%s.txt' %waveform, dtype=str)\n",
    "with open(PATH_TO_RESULTS + 'info/' + 'detectors_dictionary.pkl', 'rb') as f:\n",
    "    detectors = pickle.load(f)"
   ]
  },
  {
   "cell_type": "code",
   "execution_count": 5,
   "metadata": {},
   "outputs": [],
   "source": [
    "lbs_errs = ['snr', 'chirp_mass', 'mass_ratio', 'mass_1', 'mass_2', 'luminosity_distance', 'dec', 'ra', 'theta_jn',\n",
    "        'psi', 'phase', 'geocent_time', 'a_1', 'a_2', 'tilt_1', 'tilt_2', 'phi_12', 'phi_jl', 'redshift', \n",
    "        'mass1_lvk', 'mass2_lvk', 'err_mass_1', 'err_mass_2', 'err_luminosity_distance', 'err_dec', 'err_ra',\n",
    "        'err_theta_jn', 'err_psi', 'err_phase', 'err_geocent_time', 'err_a_1', 'err_a_2', 'err_tilt_1',\n",
    "        'err_tilt_2', 'err_phi_12', 'err_phi_jl', 'err_sky_location']"
   ]
  },
  {
   "cell_type": "code",
   "execution_count": 6,
   "metadata": {},
   "outputs": [],
   "source": [
    "new_fisher_parameters = ['chirp_mass', 'mass_ratio', 'luminosity_distance', 'dec', 'ra', 'theta_jn', 'psi', 'phase',\n",
    "            'geocent_time', 'a_1', 'a_2', 'tilt_1', 'tilt_2', 'phi_12', 'phi_jl']"
   ]
  },
  {
   "cell_type": "code",
   "execution_count": 7,
   "metadata": {},
   "outputs": [],
   "source": [
    "get_rotated_fisher_matrix(PATH_TO_RESULTS, events, detectors, estimator, lbs_errs, new_fisher_parameters)"
   ]
  },
  {
   "cell_type": "markdown",
   "metadata": {},
   "source": [
    "# Test"
   ]
  },
  {
   "cell_type": "code",
   "execution_count": 8,
   "metadata": {},
   "outputs": [],
   "source": [
    "estimator = 'median'\n",
    "events = np.loadtxt(PATH_TO_RESULTS + 'info/' + 'events_with_priors_%s.txt' %waveform, dtype=str)\n",
    "with open(PATH_TO_RESULTS + 'info/' + 'detectors_dictionary.pkl', 'rb') as f:\n",
    "    detectors = pickle.load(f)"
   ]
  },
  {
   "cell_type": "code",
   "execution_count": 18,
   "metadata": {},
   "outputs": [],
   "source": [
    "nev = len(events)\n",
    "fishers_chirp = np.zeros((nev, 15, 15))\n",
    "rotated_fishers = np.zeros((nev, 15, 15))\n",
    "mchirp_entry_rot_ov = np.zeros(nev)\n",
    "q_entry_rot_ov = np.zeros(nev)\n",
    "for i in range(nev):\n",
    "    label = get_label(detectors, events[i], estimator, 'fishers')\n",
    "    \n",
    "    fishers_chirp[i, :, :] = np.load(PATH_TO_RESULTS + 'results/gwfish_mChirp_q/' + label)\n",
    "    rotated_fishers[i, :, :] = np.load(PATH_TO_RESULTS + 'results/gwfish_rotated/' + label)\n",
    "    mchirp_entry_rot_ov[i] = rotated_fishers[i, 0, 0] / fishers_chirp[i, 0, 0]\n",
    "    q_entry_rot_ov[i] = rotated_fishers[i, 1, 1] / fishers_chirp[i, 1, 1]"
   ]
  },
  {
   "cell_type": "code",
   "execution_count": 19,
   "metadata": {},
   "outputs": [],
   "source": [
    "import matplotlib.pyplot as plt"
   ]
  },
  {
   "cell_type": "code",
   "execution_count": 47,
   "metadata": {},
   "outputs": [
    {
     "data": {
      "image/png": "[encoded data removed]",
      "text/plain": [
       "<Figure size 640x480 with 1 Axes>"
      ]
     },
     "metadata": {},
     "output_type": "display_data"
    }
   ],
   "source": [
    "plt.hist(mchirp_entry_rot_ov, bins=np.logspace(-2, 2, 20), alpha=0.5, label='mchirp')\n",
    "#plt.hist(q_entry_rot_ov, bins=np.logspace(-2, 2, 20), alpha=0.5, label='q')\n",
    "plt.legend(loc='upper right')\n",
    "plt.xscale('log')\n",
    "plt.xlabel('rotated_fisher / fisher')\n",
    "plt.show()"
   ]
  },
  {
   "cell_type": "code",
   "execution_count": 30,
   "metadata": {},
   "outputs": [],
   "source": [
    "import pandas as pd"
   ]
  },
  {
   "cell_type": "code",
   "execution_count": 39,
   "metadata": {},
   "outputs": [],
   "source": [
    "mass_ratio = []\n",
    "lbs_errs = ['snr', 'chirp_mass', 'mass_ratio', 'mass_1', 'mass_2', 'luminosity_distance', 'dec', 'ra', 'theta_jn',\n",
    "        'psi', 'phase', 'geocent_time', 'a_1', 'a_2', 'tilt_1', 'tilt_2', 'phi_12', 'phi_jl', 'redshift', \n",
    "        'mass1_lvk', 'mass2_lvk', 'err_mass_1', 'err_mass_2', 'err_luminosity_distance', 'err_dec', 'err_ra',\n",
    "        'err_theta_jn', 'err_psi', 'err_phase', 'err_geocent_time', 'err_a_1', 'err_a_2', 'err_tilt_1',\n",
    "        'err_tilt_2', 'err_phi_12', 'err_phi_jl', 'err_sky_location']\n",
    "for event in events:\n",
    "    label = get_label(detectors, event, estimator, 'errors')\n",
    "    data = pd.read_csv(PATH_TO_RESULTS + 'results/gwfish_mChirp_q/' + label, names = lbs_errs, delimiter=' ', skiprows=1)\n",
    "    mass_ratio.append(data['mass_ratio'].iloc[0])"
   ]
  },
  {
   "cell_type": "code",
   "execution_count": 46,
   "metadata": {},
   "outputs": [
    {
     "data": {
      "image/png": "[encoded data removed]",
      "text/plain": [
       "<Figure size 640x480 with 1 Axes>"
      ]
     },
     "metadata": {},
     "output_type": "display_data"
    }
   ],
   "source": [
    "plt.semilogx(mchirp_entry_rot_ov, mass_ratio, 'o', label = 'mchirp')\n",
    "plt.semilogx(q_entry_rot_ov, mass_ratio, 'o', label = 'q')\n",
    "plt.legend()\n",
    "plt.xlabel('rotated fisher / fisher')\n",
    "plt.ylabel('mass ratio')\n",
    "plt.show()"
   ]
  },
  {
   "cell_type": "code",
   "execution_count": 26,
   "metadata": {},
   "outputs": [],
   "source": [
    "k = 40"
   ]
  },
  {
   "cell_type": "code",
   "execution_count": 27,
   "metadata": {},
   "outputs": [
    {
     "name": "stdout",
     "output_type": "stream",
     "text": [
      "0.20801119211788816\n",
      "2.0040657326634754\n"
     ]
    }
   ],
   "source": [
    "my_fisher = fishers_chirp[k, 0, 0]\n",
    "my_rotated_fisher = rotated_fishers[k, 0, 0]\n",
    "print(my_fisher)\n",
    "print(my_rotated_fisher)"
   ]
  },
  {
   "cell_type": "code",
   "execution_count": 28,
   "metadata": {},
   "outputs": [
    {
     "name": "stdout",
     "output_type": "stream",
     "text": [
      "693.2771035935725\n",
      "249.5362388253236\n"
     ]
    }
   ],
   "source": [
    "my_fisher = fishers_chirp[k, 1, 1]\n",
    "my_rotated_fisher = rotated_fishers[k, 1, 1]\n",
    "print(my_fisher)\n",
    "print(my_rotated_fisher)"
   ]
  },
  {
   "cell_type": "code",
   "execution_count": null,
   "metadata": {},
   "outputs": [],
   "source": []
  },
  {
   "cell_type": "markdown",
   "metadata": {},
   "source": [
    "## Apply priors"
   ]
  },
  {
   "cell_type": "code",
   "execution_count": null,
   "metadata": {},
   "outputs": [],
   "source": []
  }
 ],
 "metadata": {
  "kernelspec": {
   "display_name": "gwtc3_env",
   "language": "python",
   "name": "python3"
  },
  "language_info": {
   "codemirror_mode": {
    "name": "ipython",
    "version": 3
   },
   "file_extension": ".py",
   "mimetype": "text/x-python",
   "name": "python",
   "nbconvert_exporter": "python",
   "pygments_lexer": "ipython3",
   "version": "3.9.18"
  }
 },
 "nbformat": 4,
 "nbformat_minor": 2
}
