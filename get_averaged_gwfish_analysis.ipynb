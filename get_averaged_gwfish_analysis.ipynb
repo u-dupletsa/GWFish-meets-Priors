{
 "cells": [
  {
   "cell_type": "markdown",
   "metadata": {},
   "source": [
    "## Steps outline\n",
    "1. Start from lvk posterior samples\n",
    "2. Randomly sample 100 samples (they all have the same probability) without replacement\n",
    "3. Run GWFish on the sub-sample of lvk posterior samples\n",
    "4. Take as SNR the average over the realizations\n",
    "5. Take as fisher samples the averga over the fisher samples\n",
    "6. Take as prior+fisher samples the average of the prior+fisher samples\n",
    "7. Calculate the 90% CL from the averaged samples\n",
    "8. Compare to the lvk samples"
   ]
  },
  {
   "cell_type": "code",
   "execution_count": 1,
   "metadata": {},
   "outputs": [],
   "source": [
    "import warnings\n",
    "warnings.filterwarnings(\"ignore\", \"Wswiglal-redir-stdio\")\n",
    "\n",
    "from tools import *\n",
    "import numpy as np\n",
    "import pickle\n",
    "\n",
    "import GWFish.modules as gw"
   ]
  },
  {
   "cell_type": "code",
   "execution_count": 2,
   "metadata": {},
   "outputs": [],
   "source": [
    "PATH_TO_LVK_DATA = '/Users/ulyana/Documents/Paper2_Review/GWTC_data/'\n",
    "PATH_TO_POSTERIORS_AVERAGED = '/Users/ulyana/Documents/Paper2_Review/results/posterior_samples_averaged/'\n",
    "PATH_TO_GWFISH_AVERAGED = '/Users/ulyana/Documents/Paper2_Review/results/gwfish_averaged/'\n",
    "PATH_TO_INFO = '/Users/ulyana/Documents/Paper2_Review/results/info/'\n",
    "PATH_TO_LVK_SAMPLES = '/Users/ulyana/Documents/Paper2_Review/results/posterior_samples/lvk_samples_snr/'\n",
    "PATH_TO_YAML = '/Users/ulyana/Documents/Paper2_Review/yamls/'\n",
    "PATH_TO_PSD = '/Users/ulyana/Documents/Paper2_Review/psds/'\n",
    "PATH_TO_LVK_SUB_SAMPLES = '/Users/ulyana/Documents/Paper2_Review/results/posterior_samples/lvk_sub_samples/'"
   ]
  },
  {
   "cell_type": "code",
   "execution_count": 3,
   "metadata": {},
   "outputs": [],
   "source": [
    "waveform = 'IMRPhenomXPHM'\n",
    "params = ['chirp_mass', 'mass_ratio', 'luminosity_distance', 'dec', 'ra', 'theta_jn', 'psi', 'phase', \n",
    "            'geocent_time', 'a_1', 'a_2', 'tilt_1', 'tilt_2', 'phi_12', 'phi_jl', 'network_optimal_snr']"
   ]
  },
  {
   "cell_type": "code",
   "execution_count": 4,
   "metadata": {},
   "outputs": [],
   "source": [
    "events_list = np.loadtxt(PATH_TO_INFO + 'events_wf_median_priors_%s.txt' %waveform, dtype=str)\n",
    "with open(PATH_TO_INFO + 'detectors_dictionary.pkl', 'rb') as f:\n",
    "    detectors = pickle.load(f)"
   ]
  },
  {
   "cell_type": "code",
   "execution_count": 5,
   "metadata": {},
   "outputs": [],
   "source": [
    "results_folder = 'gwfish_averaged'"
   ]
  },
  {
   "cell_type": "code",
   "execution_count": 6,
   "metadata": {},
   "outputs": [],
   "source": [
    "fisher_parameters = ['chirp_mass', 'mass_ratio', 'luminosity_distance', 'dec', 'ra', 'theta_jn', 'psi', 'phase', \n",
    "            'geocent_time', 'a_1', 'a_2', 'tilt_1', 'tilt_2', 'phi_12', 'phi_jl']"
   ]
  },
  {
   "cell_type": "code",
   "execution_count": 7,
   "metadata": {},
   "outputs": [],
   "source": [
    "np.random.seed(42)"
   ]
  },
  {
   "cell_type": "code",
   "execution_count": null,
   "metadata": {},
   "outputs": [],
   "source": [
    "for event in events_list:\n",
    "        name_tag = 'BBH_%s' %event\n",
    "\n",
    "        detectors_list = detectors[event]\n",
    "        detectors_event = []\n",
    "        for j in range(len(detectors_list)):\n",
    "            detectors_event.append(detectors_list[j])\n",
    "        networks = np.linspace(0, len(detectors_event) - 1, len(detectors_event), dtype=int)\n",
    "        list_all_networks = []\n",
    "        for i in range(len(networks)):\n",
    "            list_all_networks.append([networks[i].tolist()])\n",
    "        list_all_networks.append(networks.tolist()) \n",
    "        networks = str(list_all_networks)\n",
    "\n",
    "        detectors_ids = np.array(detectors_event)\n",
    "        networks_ids = json.loads(networks)\n",
    "        ConfigDet = os.path.join(PATH_TO_YAML + event + '.yaml')\n",
    "\n",
    "        # get sub_sample of injections\n",
    "        lvk_data = h5py.File(PATH_TO_LVK_DATA + event + '.h5', 'r') \n",
    "        samples_lvk = {}\n",
    "        for l in range(len(params)):\n",
    "            samples_lvk[params[l]] = lvk_data['C01:IMRPhenomXPHM']['posterior_samples'][params[l]]\n",
    "        samples_lvk = pd.DataFrame(samples_lvk)\n",
    "        # get sub_samples\n",
    "        np.random.seed(42)\n",
    "        indexes = np.random.choice(samples_lvk.shape[0], 30, replace=False)\n",
    "        sub_samples_lvk = samples_lvk.iloc[indexes]\n",
    "        # save for record\n",
    "        sub_samples_lvk.to_hdf(PATH_TO_LVK_SUB_SAMPLES + event + '.h5', key='samples', mode='w')\n",
    "\n",
    "        if not os.path.exists(PATH_TO_GWFISH_AVERAGED + event):\n",
    "            os.makedirs(PATH_TO_GWFISH_AVERAGED + event)\n",
    "\n",
    "        network = gw.detection.Network(detectors_ids, detection_SNR=(0., 0.), config=ConfigDet)\n",
    "        gw.fishermatrix.analyze_and_save_to_txt(network = network,\n",
    "                                        parameter_values  = sub_samples_lvk,\n",
    "                                        fisher_parameters = fisher_parameters, \n",
    "                                        sub_network_ids_list = networks_ids,\n",
    "                                        population_name = name_tag,\n",
    "                                        waveform_model = waveform,\n",
    "                                        save_path = PATH_TO_GWFISH_AVERAGED + event +'/',\n",
    "                                        save_matrices = True,\n",
    "                                        decimal_output_format='%.15f')\n"
   ]
  },
  {
   "cell_type": "markdown",
   "metadata": {},
   "source": []
  }
 ],
 "metadata": {
  "kernelspec": {
   "display_name": "gwfish",
   "language": "python",
   "name": "python3"
  },
  "language_info": {
   "codemirror_mode": {
    "name": "ipython",
    "version": 3
   },
   "file_extension": ".py",
   "mimetype": "text/x-python",
   "name": "python",
   "nbconvert_exporter": "python",
   "pygments_lexer": "ipython3",
   "version": "3.9.19"
  }
 },
 "nbformat": 4,
 "nbformat_minor": 2
}
